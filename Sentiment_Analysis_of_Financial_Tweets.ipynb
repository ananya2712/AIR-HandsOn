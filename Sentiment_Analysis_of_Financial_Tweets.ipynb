{
  "nbformat": 4,
  "nbformat_minor": 0,
  "metadata": {
    "colab": {
      "name": "Sentiment Analysis of Financial Tweets.ipynb",
      "provenance": [],
      "collapsed_sections": []
    },
    "kernelspec": {
      "name": "python3",
      "display_name": "Python 3"
    },
    "language_info": {
      "name": "python"
    }
  },
  "cells": [
    {
      "cell_type": "markdown",
      "source": [
        "UPLOADING THE DATASET FROM KAGGLE"
      ],
      "metadata": {
        "id": "8yR1wR1XyPEX"
      }
    },
    {
      "cell_type": "code",
      "execution_count": null,
      "metadata": {
        "colab": {
          "base_uri": "https://localhost:8080/"
        },
        "id": "MOKYUpDts2UG",
        "outputId": "1ee30dda-44b9-4ca5-a9ba-7833fc51c817"
      },
      "outputs": [
        {
          "output_type": "stream",
          "name": "stdout",
          "text": [
            "Requirement already satisfied: kaggle in /usr/local/lib/python3.7/dist-packages (1.5.12)\n",
            "Requirement already satisfied: requests in /usr/local/lib/python3.7/dist-packages (from kaggle) (2.23.0)\n",
            "Requirement already satisfied: six>=1.10 in /usr/local/lib/python3.7/dist-packages (from kaggle) (1.15.0)\n",
            "Requirement already satisfied: tqdm in /usr/local/lib/python3.7/dist-packages (from kaggle) (4.62.3)\n",
            "Requirement already satisfied: python-slugify in /usr/local/lib/python3.7/dist-packages (from kaggle) (5.0.2)\n",
            "Requirement already satisfied: certifi in /usr/local/lib/python3.7/dist-packages (from kaggle) (2021.10.8)\n",
            "Requirement already satisfied: python-dateutil in /usr/local/lib/python3.7/dist-packages (from kaggle) (2.8.2)\n",
            "Requirement already satisfied: urllib3 in /usr/local/lib/python3.7/dist-packages (from kaggle) (1.24.3)\n",
            "Requirement already satisfied: text-unidecode>=1.3 in /usr/local/lib/python3.7/dist-packages (from python-slugify->kaggle) (1.3)\n",
            "Requirement already satisfied: chardet<4,>=3.0.2 in /usr/local/lib/python3.7/dist-packages (from requests->kaggle) (3.0.4)\n",
            "Requirement already satisfied: idna<3,>=2.5 in /usr/local/lib/python3.7/dist-packages (from requests->kaggle) (2.10)\n",
            "Downloading sentiment-analysis-on-financial-tweets.zip to /content\n",
            "  0% 0.00/2.42M [00:00<?, ?B/s]\n",
            "100% 2.42M/2.42M [00:00<00:00, 79.2MB/s]\n"
          ]
        }
      ],
      "source": [
        "# upload kaggle API token into the folder which comes up on connecting\n",
        "! pip install kaggle \n",
        "! mkdir ~/.kaggle\n",
        "! cp kaggle.json ~/.kaggle/\n",
        "! chmod 600 ~/.kaggle/kaggle.json\n",
        "! kaggle datasets download vivekrathi055/sentiment-analysis-on-financial-tweets"
      ]
    },
    {
      "cell_type": "code",
      "source": [
        "! unzip sentiment-analysis-on-financial-tweets"
      ],
      "metadata": {
        "colab": {
          "base_uri": "https://localhost:8080/"
        },
        "id": "xnKb--cAukdm",
        "outputId": "047a0442-d6a0-4b25-f5b2-ca568881265c"
      },
      "execution_count": null,
      "outputs": [
        {
          "output_type": "stream",
          "name": "stdout",
          "text": [
            "Archive:  sentiment-analysis-on-financial-tweets.zip\n",
            "  inflating: stockerbot-export1.csv  \n",
            "  inflating: tweet_sentiment.csv     \n"
          ]
        }
      ]
    },
    {
      "cell_type": "code",
      "source": [
        "# Mount the Drive\n",
        "from google.colab import drive\n",
        "drive.mount('/content/gdrive')"
      ],
      "metadata": {
        "id": "kPFb-tE-vynj",
        "colab": {
          "base_uri": "https://localhost:8080/"
        },
        "outputId": "bc422eff-ed9a-444f-b7d4-def4775debd3"
      },
      "execution_count": null,
      "outputs": [
        {
          "output_type": "stream",
          "name": "stdout",
          "text": [
            "Mounted at /content/gdrive\n"
          ]
        }
      ]
    },
    {
      "cell_type": "code",
      "source": [
        "import os\n",
        "os.environ['KAGGLE_CONFIG_DIR'] = \"/content/kaggle.json\"\n",
        "! cd /content"
      ],
      "metadata": {
        "id": "vsRQpstnwwaL"
      },
      "execution_count": null,
      "outputs": []
    },
    {
      "cell_type": "code",
      "source": [
        "import pandas as pd\n",
        "dataset = pd.read_csv('/content/stockerbot-export1.csv')\n",
        "dataset.head()"
      ],
      "metadata": {
        "colab": {
          "base_uri": "https://localhost:8080/",
          "height": 250
        },
        "id": "mghX6MT-w3C0",
        "outputId": "c6f89f8a-ad99-4624-f2be-0102193cf2f7"
      },
      "execution_count": null,
      "outputs": [
        {
          "output_type": "execute_result",
          "data": {
            "text/html": [
              "\n",
              "  <div id=\"df-60724fde-d7a4-4a23-866b-c2d23705fe75\">\n",
              "    <div class=\"colab-df-container\">\n",
              "      <div>\n",
              "<style scoped>\n",
              "    .dataframe tbody tr th:only-of-type {\n",
              "        vertical-align: middle;\n",
              "    }\n",
              "\n",
              "    .dataframe tbody tr th {\n",
              "        vertical-align: top;\n",
              "    }\n",
              "\n",
              "    .dataframe thead th {\n",
              "        text-align: right;\n",
              "    }\n",
              "</style>\n",
              "<table border=\"1\" class=\"dataframe\">\n",
              "  <thead>\n",
              "    <tr style=\"text-align: right;\">\n",
              "      <th></th>\n",
              "      <th>id</th>\n",
              "      <th>text</th>\n",
              "      <th>timestamp</th>\n",
              "      <th>source</th>\n",
              "      <th>symbols</th>\n",
              "      <th>company_names</th>\n",
              "      <th>url</th>\n",
              "      <th>verified</th>\n",
              "    </tr>\n",
              "  </thead>\n",
              "  <tbody>\n",
              "    <tr>\n",
              "      <th>0</th>\n",
              "      <td>1.0197E+18</td>\n",
              "      <td>VIDEO: “I was in my office. I was minding my o...</td>\n",
              "      <td>Wed Jul 18 21:33:26 +0000 2018</td>\n",
              "      <td>GoldmanSachs</td>\n",
              "      <td>GS</td>\n",
              "      <td>The Goldman Sachs</td>\n",
              "      <td>https://twitter.com/i/web/status/1019696670777...</td>\n",
              "      <td>TRUE</td>\n",
              "    </tr>\n",
              "    <tr>\n",
              "      <th>1</th>\n",
              "      <td>1.01971E+18</td>\n",
              "      <td>The price of lumber $LB_F is down 22% since hi...</td>\n",
              "      <td>Wed Jul 18 22:22:47 +0000 2018</td>\n",
              "      <td>StockTwits</td>\n",
              "      <td>M</td>\n",
              "      <td>Macy's</td>\n",
              "      <td>https://twitter.com/i/web/status/1019709091038...</td>\n",
              "      <td>TRUE</td>\n",
              "    </tr>\n",
              "    <tr>\n",
              "      <th>2</th>\n",
              "      <td>1.01971E+18</td>\n",
              "      <td>Who says the American Dream is dead? https://t...</td>\n",
              "      <td>Wed Jul 18 22:32:01 +0000 2018</td>\n",
              "      <td>TheStreet</td>\n",
              "      <td>AIG</td>\n",
              "      <td>American</td>\n",
              "      <td>https://buff.ly/2L3kmc4</td>\n",
              "      <td>TRUE</td>\n",
              "    </tr>\n",
              "    <tr>\n",
              "      <th>3</th>\n",
              "      <td>1.01972E+18</td>\n",
              "      <td>Barry Silbert is extremely optimistic on bitco...</td>\n",
              "      <td>Wed Jul 18 22:52:52 +0000 2018</td>\n",
              "      <td>MarketWatch</td>\n",
              "      <td>BTC</td>\n",
              "      <td>Bitcoin</td>\n",
              "      <td>https://twitter.com/i/web/status/1019716662587...</td>\n",
              "      <td>TRUE</td>\n",
              "    </tr>\n",
              "    <tr>\n",
              "      <th>4</th>\n",
              "      <td>1.01972E+18</td>\n",
              "      <td>How satellites avoid attacks and space junk wh...</td>\n",
              "      <td>Wed Jul 18 23:00:01 +0000 2018</td>\n",
              "      <td>Forbes</td>\n",
              "      <td>ORCL</td>\n",
              "      <td>Oracle</td>\n",
              "      <td>http://on.forbes.com/6013DqDDU</td>\n",
              "      <td>TRUE</td>\n",
              "    </tr>\n",
              "  </tbody>\n",
              "</table>\n",
              "</div>\n",
              "      <button class=\"colab-df-convert\" onclick=\"convertToInteractive('df-60724fde-d7a4-4a23-866b-c2d23705fe75')\"\n",
              "              title=\"Convert this dataframe to an interactive table.\"\n",
              "              style=\"display:none;\">\n",
              "        \n",
              "  <svg xmlns=\"http://www.w3.org/2000/svg\" height=\"24px\"viewBox=\"0 0 24 24\"\n",
              "       width=\"24px\">\n",
              "    <path d=\"M0 0h24v24H0V0z\" fill=\"none\"/>\n",
              "    <path d=\"M18.56 5.44l.94 2.06.94-2.06 2.06-.94-2.06-.94-.94-2.06-.94 2.06-2.06.94zm-11 1L8.5 8.5l.94-2.06 2.06-.94-2.06-.94L8.5 2.5l-.94 2.06-2.06.94zm10 10l.94 2.06.94-2.06 2.06-.94-2.06-.94-.94-2.06-.94 2.06-2.06.94z\"/><path d=\"M17.41 7.96l-1.37-1.37c-.4-.4-.92-.59-1.43-.59-.52 0-1.04.2-1.43.59L10.3 9.45l-7.72 7.72c-.78.78-.78 2.05 0 2.83L4 21.41c.39.39.9.59 1.41.59.51 0 1.02-.2 1.41-.59l7.78-7.78 2.81-2.81c.8-.78.8-2.07 0-2.86zM5.41 20L4 18.59l7.72-7.72 1.47 1.35L5.41 20z\"/>\n",
              "  </svg>\n",
              "      </button>\n",
              "      \n",
              "  <style>\n",
              "    .colab-df-container {\n",
              "      display:flex;\n",
              "      flex-wrap:wrap;\n",
              "      gap: 12px;\n",
              "    }\n",
              "\n",
              "    .colab-df-convert {\n",
              "      background-color: #E8F0FE;\n",
              "      border: none;\n",
              "      border-radius: 50%;\n",
              "      cursor: pointer;\n",
              "      display: none;\n",
              "      fill: #1967D2;\n",
              "      height: 32px;\n",
              "      padding: 0 0 0 0;\n",
              "      width: 32px;\n",
              "    }\n",
              "\n",
              "    .colab-df-convert:hover {\n",
              "      background-color: #E2EBFA;\n",
              "      box-shadow: 0px 1px 2px rgba(60, 64, 67, 0.3), 0px 1px 3px 1px rgba(60, 64, 67, 0.15);\n",
              "      fill: #174EA6;\n",
              "    }\n",
              "\n",
              "    [theme=dark] .colab-df-convert {\n",
              "      background-color: #3B4455;\n",
              "      fill: #D2E3FC;\n",
              "    }\n",
              "\n",
              "    [theme=dark] .colab-df-convert:hover {\n",
              "      background-color: #434B5C;\n",
              "      box-shadow: 0px 1px 3px 1px rgba(0, 0, 0, 0.15);\n",
              "      filter: drop-shadow(0px 1px 2px rgba(0, 0, 0, 0.3));\n",
              "      fill: #FFFFFF;\n",
              "    }\n",
              "  </style>\n",
              "\n",
              "      <script>\n",
              "        const buttonEl =\n",
              "          document.querySelector('#df-60724fde-d7a4-4a23-866b-c2d23705fe75 button.colab-df-convert');\n",
              "        buttonEl.style.display =\n",
              "          google.colab.kernel.accessAllowed ? 'block' : 'none';\n",
              "\n",
              "        async function convertToInteractive(key) {\n",
              "          const element = document.querySelector('#df-60724fde-d7a4-4a23-866b-c2d23705fe75');\n",
              "          const dataTable =\n",
              "            await google.colab.kernel.invokeFunction('convertToInteractive',\n",
              "                                                     [key], {});\n",
              "          if (!dataTable) return;\n",
              "\n",
              "          const docLinkHtml = 'Like what you see? Visit the ' +\n",
              "            '<a target=\"_blank\" href=https://colab.research.google.com/notebooks/data_table.ipynb>data table notebook</a>'\n",
              "            + ' to learn more about interactive tables.';\n",
              "          element.innerHTML = '';\n",
              "          dataTable['output_type'] = 'display_data';\n",
              "          await google.colab.output.renderOutput(dataTable, element);\n",
              "          const docLink = document.createElement('div');\n",
              "          docLink.innerHTML = docLinkHtml;\n",
              "          element.appendChild(docLink);\n",
              "        }\n",
              "      </script>\n",
              "    </div>\n",
              "  </div>\n",
              "  "
            ],
            "text/plain": [
              "            id  ... verified\n",
              "0   1.0197E+18  ...     TRUE\n",
              "1  1.01971E+18  ...     TRUE\n",
              "2  1.01971E+18  ...     TRUE\n",
              "3  1.01972E+18  ...     TRUE\n",
              "4  1.01972E+18  ...     TRUE\n",
              "\n",
              "[5 rows x 8 columns]"
            ]
          },
          "metadata": {},
          "execution_count": 5
        }
      ]
    },
    {
      "cell_type": "markdown",
      "source": [
        "PRE PROCESSING THE DATASET USING INBUILT LIBRARY "
      ],
      "metadata": {
        "id": "1g0dePcfyFr-"
      }
    },
    {
      "cell_type": "code",
      "source": [
        "tweets = dataset[\"text\"].tolist() # convert tweets to a list "
      ],
      "metadata": {
        "id": "NLFnR6LFyIgu"
      },
      "execution_count": null,
      "outputs": []
    },
    {
      "cell_type": "code",
      "source": [
        "! pip install tweet-preprocessor\n",
        "clean = []\n",
        "import preprocessor as p\n",
        "\n",
        "def preproc(tweet):\n",
        "  clean_tweet = p.clean(tweet)\n",
        "  return clean_tweet\n",
        "\n",
        "# Cleaning\n",
        "for i in tweets:\n",
        "  clean.append(preproc(i))"
      ],
      "metadata": {
        "colab": {
          "base_uri": "https://localhost:8080/"
        },
        "id": "oGheSZlv1VmC",
        "outputId": "03dbc288-8b00-4982-884c-1bf50f3c8d63"
      },
      "execution_count": null,
      "outputs": [
        {
          "output_type": "stream",
          "name": "stdout",
          "text": [
            "Collecting tweet-preprocessor\n",
            "  Downloading tweet_preprocessor-0.6.0-py3-none-any.whl (27 kB)\n",
            "Installing collected packages: tweet-preprocessor\n",
            "Successfully installed tweet-preprocessor-0.6.0\n"
          ]
        }
      ]
    },
    {
      "cell_type": "code",
      "source": [
        "print(clean[0])"
      ],
      "metadata": {
        "colab": {
          "base_uri": "https://localhost:8080/"
        },
        "id": "Gv1OCO6e1t6A",
        "outputId": "adb80ca1-3fda-4e2c-9234-e54b7edf11d1"
      },
      "execution_count": 40,
      "outputs": [
        {
          "output_type": "stream",
          "name": "stdout",
          "text": [
            "VIDEO: I was in my office. I was minding my own business... David Solomon tells $GS interns how he learned he wa\n"
          ]
        }
      ]
    },
    {
      "cell_type": "markdown",
      "source": [
        "PRE PROCESSING USING REGEX ETC."
      ],
      "metadata": {
        "id": "TITSaOZX86mQ"
      }
    },
    {
      "cell_type": "code",
      "source": [
        "import regex as re\n",
        "no_link = []\n",
        "\n",
        "def remove_links(tweet):\n",
        "    \"\"\"Takes a string and removes web links from it\"\"\"\n",
        "    tweet = re.sub(r'http\\S+', '', tweet)   # remove http links\n",
        "    tweet = re.sub(r'bit.ly/\\S+', '', tweet)  # remove bitly links\n",
        "    tweet = tweet.strip('[link]')   # remove [links]\n",
        "    tweet = re.sub(r'pic.twitter\\S+','', tweet)\n",
        "    return tweet\n",
        "\n",
        "for i in tweets:\n",
        "  no_link.append(remove_links(i))\n",
        "\n",
        "print(no_link[0])"
      ],
      "metadata": {
        "colab": {
          "base_uri": "https://localhost:8080/"
        },
        "id": "khS90h1L8hdy",
        "outputId": "d3071633-3884-48e3-87b3-bff808d829c4"
      },
      "execution_count": 41,
      "outputs": [
        {
          "output_type": "stream",
          "name": "stdout",
          "text": [
            "VIDEO: “I was in my office. I was minding my own business...” –David Solomon tells $GS interns how he learned he wa… \n"
          ]
        }
      ]
    },
    {
      "cell_type": "code",
      "source": [
        "# CONVERT TO LOWER CASE\n",
        "import re\n",
        "low = []\n",
        "\n",
        "def lower(tweets):\n",
        "  data = re.sub(' +',' ',tweets)\n",
        "  lower_text = data.lower()\n",
        "  return lower_text\n",
        "\n",
        "for i in no_link:\n",
        "    low.append(lower(i))"
      ],
      "metadata": {
        "id": "3kjkmlvm2IAD"
      },
      "execution_count": null,
      "outputs": []
    },
    {
      "cell_type": "code",
      "source": [
        "print(low[0])"
      ],
      "metadata": {
        "colab": {
          "base_uri": "https://localhost:8080/"
        },
        "id": "N1P2Ed1V7Mfl",
        "outputId": "831030fe-39db-4e69-c325-41e3661f699c"
      },
      "execution_count": 42,
      "outputs": [
        {
          "output_type": "stream",
          "name": "stdout",
          "text": [
            "video: “i was in my office. i was minding my own business...” –david solomon tells $gs interns how he learned he wa… \n"
          ]
        }
      ]
    },
    {
      "cell_type": "code",
      "source": [
        "# REMOVE PUNCTUATION\n",
        "def remove_punctuation(words):\n",
        "  new_words = []\n",
        "  for word in words:\n",
        "    new_word = re.sub(r'[^\\w\\s]', '', (word))\n",
        "    if new_word != '':\n",
        "       new_words.append(new_word)\n",
        "  return new_words\n",
        "\n",
        "new = remove_punctuation(low)\n",
        "print(new[0])"
      ],
      "metadata": {
        "colab": {
          "base_uri": "https://localhost:8080/"
        },
        "id": "X5a3-5rr61fT",
        "outputId": "f7f4f3a7-9bf5-4bd2-8a0e-0b48957003ea"
      },
      "execution_count": 43,
      "outputs": [
        {
          "output_type": "stream",
          "name": "stdout",
          "text": [
            "video i was in my office i was minding my own business david solomon tells gs interns how he learned he wa \n"
          ]
        }
      ]
    },
    {
      "cell_type": "code",
      "source": [
        "# REMOVE USERS \n",
        "no_user = []\n",
        "\n",
        "def remove_users(tweet):\n",
        "    \"\"\"Takes a string and removes retweet and @user information\"\"\"\n",
        "    tweet = re.sub('(RT\\s@[A-Za-z]+[A-Za-z0-9-_]+)', '', tweet)  # remove re-tweet\n",
        "    tweet = re.sub('(@[A-Za-z]+[A-Za-z0-9-_]+)', '', tweet)  # remove tweeted at\n",
        "    return tweet\n",
        "\n",
        "for i in new:\n",
        "    no_user.append(remove_users(i))\n",
        "\n",
        "print(no_user[0])"
      ],
      "metadata": {
        "colab": {
          "base_uri": "https://localhost:8080/"
        },
        "id": "XzbroVv79aU9",
        "outputId": "5519e5e3-db83-4396-c0cd-a1d6dceb75ed"
      },
      "execution_count": 44,
      "outputs": [
        {
          "output_type": "stream",
          "name": "stdout",
          "text": [
            "video i was in my office i was minding my own business david solomon tells gs interns how he learned he wa \n"
          ]
        }
      ]
    },
    {
      "cell_type": "code",
      "source": [
        "# REMOVE HASHTAGS\n",
        "no_hash = []\n",
        "\n",
        "def remove_hashtags(tweet):\n",
        "    \"\"\"Takes a string and removes any hash tags\"\"\"\n",
        "    tweet = re.sub('(#[A-Za-z]+[A-Za-z0-9-_]+)', '', tweet)  # remove hash tags\n",
        "    return tweet\n",
        "\n",
        "for i in no_user:\n",
        "    no_hash.append(remove_hashtags(i))\n",
        "\n",
        "print(no_hash[0])"
      ],
      "metadata": {
        "colab": {
          "base_uri": "https://localhost:8080/"
        },
        "id": "0hCkXctF-CmR",
        "outputId": "323d6c90-7c12-4f3e-debb-8a65246077b9"
      },
      "execution_count": 45,
      "outputs": [
        {
          "output_type": "stream",
          "name": "stdout",
          "text": [
            "video i was in my office i was minding my own business david solomon tells gs interns how he learned he wa \n"
          ]
        }
      ]
    },
    {
      "cell_type": "code",
      "source": [
        "# REMOVE SPACES AND DIGITS \n",
        "data_final = []\n",
        "\n",
        "def spaces_digits(tweet):\n",
        "    tweet = re.sub('\\s+', ' ', tweet)  # remove multi spacing\n",
        "    tweet = re.sub('([0-9]+)', '', tweet)  # remove numbers\n",
        "    return tweet\n",
        "\n",
        "for i in no_hash:\n",
        "  data_final.append(spaces_digits(i))\n",
        "\n",
        "print(data_final[0])"
      ],
      "metadata": {
        "colab": {
          "base_uri": "https://localhost:8080/"
        },
        "id": "ec6hKMg6_AkI",
        "outputId": "84e734a2-e31d-4078-c5fe-6cb668b2e1f8"
      },
      "execution_count": 46,
      "outputs": [
        {
          "output_type": "stream",
          "name": "stdout",
          "text": [
            "video i was in my office i was minding my own business david solomon tells gs interns how he learned he wa \n"
          ]
        }
      ]
    },
    {
      "cell_type": "code",
      "source": [
        "# REMOVE STOP WORDS\n",
        "\n",
        "import nltk\n",
        "nltk.download('stopwords')\n",
        "\n",
        "from nltk.corpus import stopwords\n",
        "stop_words = set(stopwords.words('english'))\n",
        "\n",
        "res = [] # resultant list of cleaned strings\n",
        "\n",
        "for s in data_final:\n",
        "  lst_string = [s][0].split()\n",
        "  \n",
        "  no_stpwords_string=\"\" #new string created \n",
        "  for i in lst_string:\n",
        "    if not i in stop_words:\n",
        "        no_stpwords_string += i + ' '\n",
        "  no_stpwords_string = no_stpwords_string[:-1]\n",
        "  res.append(no_stpwords_string)\n",
        "\n",
        "print(res[0]) # example cleaned string "
      ],
      "metadata": {
        "colab": {
          "base_uri": "https://localhost:8080/"
        },
        "id": "VTw_tg-5xrza",
        "outputId": "a7c24ba7-2b0e-4561-8fdf-38fafb444e9b"
      },
      "execution_count": null,
      "outputs": [
        {
          "output_type": "stream",
          "name": "stdout",
          "text": [
            "[nltk_data] Downloading package stopwords to /root/nltk_data...\n",
            "[nltk_data]   Package stopwords is already up-to-date!\n",
            "video office minding business david solomon tells gs interns learned wa\n"
          ]
        }
      ]
    },
    {
      "cell_type": "markdown",
      "source": [
        "WORD TOKENISATION"
      ],
      "metadata": {
        "id": "zfrWuW040HJ_"
      }
    },
    {
      "cell_type": "code",
      "source": [
        "from nltk.tokenize import regexp_tokenize\n",
        "  \n",
        "res_fin = [sub.split() for sub in res] #creates a list of lists for all tweets tokenised\n",
        "print(res_fin[0])"
      ],
      "metadata": {
        "colab": {
          "base_uri": "https://localhost:8080/"
        },
        "id": "7AkzBKyXzgMW",
        "outputId": "87d090ca-bf5c-495b-a786-cf4c8e058ce3"
      },
      "execution_count": null,
      "outputs": [
        {
          "output_type": "stream",
          "name": "stdout",
          "text": [
            "['video', 'office', 'minding', 'business', 'david', 'solomon', 'tells', 'gs', 'interns', 'learned', 'wa']\n"
          ]
        }
      ]
    },
    {
      "cell_type": "markdown",
      "source": [
        "WORD STEMMING"
      ],
      "metadata": {
        "id": "3kwAVAtu4jmq"
      }
    },
    {
      "cell_type": "code",
      "source": [
        "from nltk.stem import PorterStemmer\n",
        "porter = PorterStemmer()\n",
        "stemmed = []\n",
        "for words in res_fin:\n",
        "    temp = [porter.stem(i) for i in words]\n",
        "    stemmed.append(temp)\n",
        "print(stemmed[0])    "
      ],
      "metadata": {
        "colab": {
          "base_uri": "https://localhost:8080/"
        },
        "id": "o7tVvjgq1bNm",
        "outputId": "f3d43a5f-9e8c-492d-8e44-07ccb8484531"
      },
      "execution_count": null,
      "outputs": [
        {
          "output_type": "stream",
          "name": "stdout",
          "text": [
            "['video', 'offic', 'mind', 'busi', 'david', 'solomon', 'tell', 'gs', 'intern', 'learn', 'wa']\n"
          ]
        }
      ]
    },
    {
      "cell_type": "markdown",
      "source": [
        "WORD LEMMATISATION"
      ],
      "metadata": {
        "id": "Hr7Gku6u6dWI"
      }
    },
    {
      "cell_type": "code",
      "source": [
        "import nltk\n",
        "nltk.download(\"wordnet\")"
      ],
      "metadata": {
        "colab": {
          "base_uri": "https://localhost:8080/"
        },
        "id": "OjvSzSJ-7NzZ",
        "outputId": "4f41c409-ff2a-4337-e853-6231c86ab1ee"
      },
      "execution_count": null,
      "outputs": [
        {
          "output_type": "stream",
          "name": "stdout",
          "text": [
            "[nltk_data] Downloading package wordnet to /root/nltk_data...\n",
            "[nltk_data]   Unzipping corpora/wordnet.zip.\n"
          ]
        },
        {
          "output_type": "execute_result",
          "data": {
            "text/plain": [
              "True"
            ]
          },
          "metadata": {},
          "execution_count": 29
        }
      ]
    },
    {
      "cell_type": "code",
      "source": [
        "# import these modules\n",
        "from nltk.stem import WordNetLemmatizer\n",
        " \n",
        "lemmatizer = WordNetLemmatizer()\n",
        "\n",
        "lemmatised = []\n",
        "for words in stemmed:\n",
        "  temp = [lemmatizer.lemmatize(i) for i in words]\n",
        "  lemmatised.append(temp)\n",
        "print(lemmatised[0])  "
      ],
      "metadata": {
        "colab": {
          "base_uri": "https://localhost:8080/"
        },
        "id": "Gu5t8WnS6fsN",
        "outputId": "23c6e721-cfe3-4cbd-9044-d748d3ae1c48"
      },
      "execution_count": null,
      "outputs": [
        {
          "output_type": "stream",
          "name": "stdout",
          "text": [
            "['video', 'offic', 'mind', 'busi', 'david', 'solomon', 'tell', 'g', 'intern', 'learn', 'wa']\n"
          ]
        }
      ]
    },
    {
      "cell_type": "markdown",
      "source": [
        "INVERTED INDEX CREATION "
      ],
      "metadata": {
        "id": "KQR05Eux9CNX"
      }
    },
    {
      "cell_type": "code",
      "source": [
        "from collections import defaultdict\n",
        "def create_index (data):\n",
        "  index = defaultdict(list)\n",
        "  for i, tokens in enumerate(data):\n",
        "    for token in tokens:\n",
        "      index[token].append(i)\n",
        "  return index"
      ],
      "metadata": {
        "id": "bZ-xVDcQ7-Kd"
      },
      "execution_count": 34,
      "outputs": []
    },
    {
      "cell_type": "code",
      "source": [
        "index = create_index(lemmatised)\n",
        "print(\"hello : \",index['hello'])\n",
        "\n",
        "print(\"\\n\")\n",
        "print(\"EXAMPLE KEYS: \")\n",
        "# show a few example keys - first 10 \n",
        "for i in list(index)[0:10]:\n",
        "  print(i,',',index[i])"
      ],
      "metadata": {
        "colab": {
          "base_uri": "https://localhost:8080/"
        },
        "id": "olyuiZQU9TcU",
        "outputId": "917dbd61-b060-45e8-cdea-a91cc2c9fa59"
      },
      "execution_count": 60,
      "outputs": [
        {
          "output_type": "stream",
          "name": "stdout",
          "text": [
            "hello :  [15988, 16343, 16487, 16876, 16894, 17091, 18753, 18956, 19017, 19105, 19617, 19874, 20855, 20966, 24252, 24655, 28258, 28420]\n",
            "\n",
            "\n",
            "EXAMPLE KEYS: \n",
            "video , [0, 800, 1048, 1206, 1327, 1447, 1588, 1597, 1776, 1870, 1924, 2118, 2355, 2439, 2552, 2703, 2704, 3418, 3419, 3597, 3604, 3624, 3626, 3683, 4541, 4550, 5186, 5490, 5508, 5618, 5670, 5778, 5864, 6148, 6672, 6747, 6804, 8141, 8208, 8373, 8385, 8386, 8387, 8388, 8389, 8390, 8391, 8392, 8394, 8395, 8396, 8397, 8398, 8399, 8410, 8485, 8488, 8850, 8892, 10499, 10653, 10663, 10678, 11804, 11824, 12018, 12049, 12220, 12302, 13653, 14539, 14935, 15077, 15326, 15690, 16196, 16237, 16527, 16597, 17437, 17993, 18143, 18684, 18907, 19089, 19348, 19532, 20099, 20207, 20322, 20943, 21006, 22183, 22603, 22611, 22622, 22698, 22700, 22755, 22768, 23407, 23424, 23468, 23558, 24073, 24148, 24347, 24693, 24721, 24886, 24934, 25450, 25761, 25853, 25858, 26089, 26125, 26257, 26334, 26347, 26377, 26483, 26593, 26674, 26683, 27111, 27135, 27702, 27864, 28112, 28185, 28385]\n",
            "offic , [0, 339, 342, 652, 837, 838, 1260, 1265, 1922, 1923, 1978, 2034, 2037, 2989, 3228, 3359, 3525, 3837, 3976, 4569, 4685, 4910, 5198, 5313, 5320, 5378, 5614, 5632, 6639, 6644, 6760, 6773, 6777, 7181, 7249, 7292, 7389, 8691, 8692, 9618, 9625, 9641, 9678, 10224, 11742, 11990, 12170, 12249, 12278, 12284, 14821, 15107, 15127, 15740, 15837, 16201, 16271, 16444, 16501, 16609, 16639, 16640, 19981, 20546, 20932, 20944, 22669, 24782, 24813, 24944, 25723, 25960, 26252, 26333, 26384, 26425, 26430, 27523, 27526]\n",
            "mind , [0, 1662, 10124, 10299, 12463, 14344, 15668, 15678, 15901, 16180, 17491, 17561, 20154, 21306, 23119, 26621, 26647, 26879, 27458, 27574, 27845, 27977, 28261]\n",
            "busi , [0, 985, 1127, 2537, 3634, 3901, 4953, 5835, 6074, 6074, 6728, 8967, 8969, 9626, 10162, 10736, 11021, 11185, 12349, 12359, 12418, 13779, 13984, 14012, 14241, 14931, 14947, 15162, 15792, 16333, 16416, 17307, 18136, 19952, 19997, 20069, 20127, 20142, 20143, 20542, 20608, 21223, 21248, 21597, 21611, 21613, 21618, 21752, 22056, 22140, 22572, 22764, 22790, 22816, 22833, 22853, 22855, 22857, 22859, 22879, 22893, 23022, 23032, 23126, 23610, 23678, 23702, 23741, 23754, 24010, 24139, 24482, 24504, 24861, 25001, 25002, 25172, 26524, 26547, 26550, 26553, 26571, 26589, 26602, 26619, 26669, 26725, 26844, 26851, 26860, 26986, 26988, 27028, 27047, 27059, 27081, 27145, 27207, 27266, 27289, 27294, 27406, 27417, 27506, 27523, 27526, 27621, 27625, 27677, 27721, 27829, 27880, 27902, 28234, 28376, 28407]\n",
            "david , [0, 5, 4016, 4039, 4412, 5317, 5494, 6609, 6902, 7301, 7317, 11242, 12487, 13025, 13094, 15367, 15571, 15991, 16076, 16429, 16444, 16721, 16826, 17920, 18309, 19050, 19069, 23746, 24616, 26252, 26497, 26781, 26782, 27870, 28226, 28254]\n",
            "solomon , [0]\n",
            "tell , [0, 20, 1482, 2780, 5434, 8543, 8546, 9326, 9354, 9613, 9613, 10159, 11089, 12096, 15808, 17541, 17729, 17823, 21083, 21572, 22142, 22946, 22959, 23736, 25397, 25514, 25599, 25629, 25655, 25859, 26244, 26402, 26432, 26579, 26800, 26850, 26950, 27205, 28415]\n",
            "g , [0, 258, 272, 419, 540, 673, 735, 736, 738, 1068, 1419, 1795, 2052, 2080, 2219, 3438, 3819, 3820, 3967, 3970, 4449, 5392, 5442, 5924, 5944, 5955, 5960, 5961, 5965, 5966, 5982, 5983, 5987, 5989, 6015, 6021, 6025, 6030, 6047, 6056, 6060, 6061, 6062, 6063, 6064, 6115, 6127, 6131, 6146, 6156, 6170, 6183, 6212, 6251, 6251, 6251, 6444, 6464, 6552, 6553, 6555, 6558, 6559, 6562, 6566, 6580, 6582, 6586, 6590, 6694, 6734, 6951, 6987, 7059, 7237, 7273, 7390, 7786, 8006, 8656, 8660, 8680, 8758, 8763, 8767, 8772, 8773, 8785, 8786, 8788, 8804, 8815, 8822, 8823, 8831, 8841, 8845, 8846, 8847, 8848, 8861, 8900, 8904, 8913, 8920, 8930, 8934, 8941, 8949, 8960, 8972, 8996, 9002, 9003, 9007, 9007, 9007, 9007, 9007, 9007, 9007, 9007, 9007, 9017, 9070, 9149, 9227, 9230, 9455, 9456, 9574, 9584, 9598, 9608, 9640, 9670, 9675, 9685, 9686, 9691, 9693, 9706, 9715, 9721, 9729, 9749, 9750, 9759, 9775, 9805, 9831, 9873, 9964, 10158, 10228, 10246, 10378, 10386, 10401, 10485, 10596, 10698, 10772, 10782, 10826, 10868, 10870, 10946, 11042, 11130, 11207, 11246, 11263, 11485, 11536, 11551, 11604, 11605, 11665, 11674, 11691, 11736, 11783, 11830, 11898, 11919, 11920, 11929, 11943, 12077, 12093, 12122, 12170, 12257, 12276, 12294, 12330, 12341, 12348, 12429, 12455, 12506, 12718, 12911, 12916, 13011, 13113, 13236, 13359, 13435, 13440, 13440, 13625, 13751, 13785, 13829, 13880, 13887, 13927, 14053, 14073, 14097, 14110, 14117, 14177, 14188, 14191, 14303, 14366, 14424, 14449, 14466, 14495, 14527, 14580, 14626, 14627, 14634, 14667, 14678, 14716, 14743, 14885, 14927, 15039, 15178, 15224, 15293, 15559, 15743, 15832, 15963, 15997, 16094, 16279, 16324, 16325, 16353, 16361, 16455, 16480, 16523, 16604, 16731, 16787, 16939, 17003, 17201, 17445, 17541, 17652, 17708, 17729, 17742, 17743, 17756, 17973, 17982, 18415, 18450, 19337, 19463, 19499, 19524, 19528, 19561, 19612, 19648, 19713, 19732, 19769, 19821, 19826, 19845, 19938, 20031, 20223, 20319, 20484, 20487, 20528, 20615, 20627, 20722, 20750, 20757, 20779, 20868, 20871, 20893, 20913, 21044, 21123, 21133, 21191, 21331, 21478, 21492, 21574, 21622, 21757, 21776, 21780, 21850, 21925, 21965, 21989, 22038, 22077, 22182, 22641, 22641, 22768, 22821, 22868, 23300, 23377, 23410, 23565, 23885, 23899, 23933, 23954, 24013, 24023, 24049, 24103, 24202, 24212, 24416, 24417, 24454, 24679, 24908, 24966, 25149, 25359, 25373, 25441, 25493, 25526, 25568, 25621, 25627, 25792, 25844, 26076, 26098, 26269, 26275, 26281, 26530, 26690, 26800, 27050, 27263, 27264, 27386, 27471, 27564, 27788, 27826, 27949, 27983, 28160, 28351, 28389, 28412, 28415, 28423]\n",
            "intern , [0, 64, 65, 66, 115, 116, 129, 139, 145, 148, 183, 184, 185, 186, 198, 349, 352, 353, 441, 443, 445, 484, 688, 689, 790, 791, 792, 801, 819, 820, 821, 832, 833, 868, 908, 920, 935, 969, 977, 1222, 1223, 1224, 1227, 1264, 1331, 1460, 1473, 1491, 1545, 1550, 1635, 1636, 1637, 1638, 1724, 1733, 1756, 1758, 1797, 1801, 1808, 1809, 1835, 1882, 1961, 1999, 2028, 2076, 2079, 2081, 2093, 2097, 2220, 2222, 2236, 2358, 2374, 2381, 2383, 2494, 2531, 2705, 2706, 2713, 2790, 2793, 2798, 2809, 2816, 2863, 2875, 2895, 2909, 2924, 2941, 2948, 2969, 2988, 2990, 3086, 3108, 3127, 3422, 3477, 3770, 3772, 3778, 3933, 3937, 3941, 3972, 4007, 4009, 4121, 4221, 4245, 4247, 4266, 4269, 4274, 4275, 4276, 4504, 4516, 4535, 4545, 4627, 4635, 4637, 4664, 4683, 4684, 4688, 4689, 4694, 4697, 4708, 4730, 4805, 4808, 4811, 4814, 5232, 5234, 5235, 5321, 5484, 5528, 6007, 6009, 6028, 6029, 6068, 6081, 6082, 6083, 6198, 6251, 6251, 6251, 6251, 6337, 6355, 6366, 6420, 6454, 6474, 6487, 6489, 6512, 6570, 6572, 6618, 6656, 6659, 6668, 6674, 6677, 6684, 6697, 6814, 6815, 6865, 6887, 6889, 6892, 7023, 7074, 7105, 7129, 7148, 7170, 7172, 7173, 7175, 7203, 7226, 7234, 7234, 7239, 7245, 7267, 7276, 7288, 7305, 7333, 7334, 7344, 7357, 7388, 7399, 7409, 7424, 7434, 7438, 7446, 7458, 7484, 7524, 7628, 7659, 7660, 7665, 7667, 7712, 7726, 7729, 7731, 7838, 7842, 7876, 7896, 7898, 7900, 7903, 7953, 8012, 8017, 8044, 8044, 8044, 8059, 8067, 8212, 8214, 8355, 8356, 8357, 8490, 8495, 8817, 8956, 9007, 9007, 9007, 9007, 9007, 9075, 9202, 9204, 9233, 9289, 9381, 9433, 9449, 9532, 9552, 9655, 9663, 9743, 9746, 9783, 9847, 9850, 9889, 9894, 9945, 9951, 10173, 10205, 10478, 10545, 10575, 10579, 10601, 10614, 10683, 10690, 10695, 10723, 10737, 10839, 10859, 10876, 10903, 10909, 10924, 10949, 11042, 11142, 11258, 11262, 11267, 11304, 11314, 11315, 11318, 11321, 11325, 11379, 11384, 11392, 11626, 11802, 11803, 11809, 11854, 11968, 11975, 12736, 12756, 12864, 12909, 12918, 12921, 12923, 12936, 12938, 12997, 13000, 13007, 13009, 13016, 13033, 13103, 13186, 13191, 13194, 13227, 13230, 13232, 13234, 13239, 13254, 13267, 13290, 13300, 13374, 13399, 13446, 13452, 13454, 13461, 13491, 13571, 13585, 13622, 13687, 13692, 13730, 13827, 13964, 14080, 14083, 14098, 14099, 14105, 14395, 14402, 14403, 14458, 14676, 14823, 14826, 14831, 14838, 14856, 14871, 14873, 14874, 14876, 15313, 15318, 15509, 15539, 15644, 16007, 16068, 16162, 16222, 16247, 16596, 16598, 16788, 16794, 17244, 17245, 17248, 17249, 17258, 17620, 17626, 17953, 17958, 18081, 18084, 18086, 18092, 18145, 18170, 18182, 18227, 18351, 18403, 18436, 18438, 18516, 18524, 18531, 18534, 18649, 18666, 18697, 18851, 18892, 18909, 19023, 19031, 19048, 19076, 19145, 19146, 19169, 19226, 19245, 19248, 19253, 19257, 19317, 19407, 19515, 19720, 19809, 19811, 19818, 19820, 19823, 20005, 20073, 20150, 20181, 20188, 20194, 20200, 20204, 20211, 20291, 20336, 20813, 20845, 21075, 21125, 21146, 21147, 21206, 21216, 21235, 21348, 21481, 21503, 21624, 22165, 22304, 23117, 23308, 23553, 23567, 23599, 23605, 23726, 23808, 24179, 24181, 25654, 26131, 26205, 26210, 26260, 26291, 27156, 27193, 27266, 27313, 27315, 27721, 27761, 27773, 27820, 28083, 28107, 28234, 28294]\n",
            "learn , [0, 92, 1397, 6198, 11545, 11853, 11857, 12414, 16275, 19290, 23523, 24424, 27192, 27196, 28271]\n"
          ]
        }
      ]
    }
  ]
}