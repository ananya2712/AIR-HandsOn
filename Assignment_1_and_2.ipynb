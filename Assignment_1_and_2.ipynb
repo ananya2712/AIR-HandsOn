{
  "nbformat": 4,
  "nbformat_minor": 0,
  "metadata": {
    "colab": {
      "name": "Assignment 1 and 2.ipynb",
      "provenance": [],
      "collapsed_sections": []
    },
    "kernelspec": {
      "name": "python3",
      "display_name": "Python 3"
    },
    "language_info": {
      "name": "python"
    }
  },
  "cells": [
    {
      "cell_type": "markdown",
      "source": [
        "Dataset Used -> Sentiment Analysis of Financial Tweets\n",
        "\n",
        "---\n",
        "\n",
        "\n",
        "Assignment 1 & 2 consists of the following components:\n",
        "1. Uploading Dataset\n",
        "2. Pre-processing like stemming and lemmatisation\n",
        "3. Tokenisation and creating Inverted Index."
      ],
      "metadata": {
        "id": "ZdecE4JpO6Gq"
      }
    },
    {
      "cell_type": "markdown",
      "source": [
        "## UPLOADING THE DATASET FROM KAGGLE"
      ],
      "metadata": {
        "id": "8yR1wR1XyPEX"
      }
    },
    {
      "cell_type": "code",
      "execution_count": 3,
      "metadata": {
        "colab": {
          "base_uri": "https://localhost:8080/"
        },
        "id": "MOKYUpDts2UG",
        "outputId": "6a7cdc2c-7d85-45c6-ae2a-7f15a8688170"
      },
      "outputs": [
        {
          "output_type": "stream",
          "name": "stdout",
          "text": [
            "Requirement already satisfied: kaggle in /usr/local/lib/python3.7/dist-packages (1.5.12)\n",
            "Requirement already satisfied: tqdm in /usr/local/lib/python3.7/dist-packages (from kaggle) (4.63.0)\n",
            "Requirement already satisfied: certifi in /usr/local/lib/python3.7/dist-packages (from kaggle) (2021.10.8)\n",
            "Requirement already satisfied: python-dateutil in /usr/local/lib/python3.7/dist-packages (from kaggle) (2.8.2)\n",
            "Requirement already satisfied: requests in /usr/local/lib/python3.7/dist-packages (from kaggle) (2.23.0)\n",
            "Requirement already satisfied: urllib3 in /usr/local/lib/python3.7/dist-packages (from kaggle) (1.24.3)\n",
            "Requirement already satisfied: python-slugify in /usr/local/lib/python3.7/dist-packages (from kaggle) (6.1.1)\n",
            "Requirement already satisfied: six>=1.10 in /usr/local/lib/python3.7/dist-packages (from kaggle) (1.15.0)\n",
            "Requirement already satisfied: text-unidecode>=1.3 in /usr/local/lib/python3.7/dist-packages (from python-slugify->kaggle) (1.3)\n",
            "Requirement already satisfied: idna<3,>=2.5 in /usr/local/lib/python3.7/dist-packages (from requests->kaggle) (2.10)\n",
            "Requirement already satisfied: chardet<4,>=3.0.2 in /usr/local/lib/python3.7/dist-packages (from requests->kaggle) (3.0.4)\n",
            "mkdir: cannot create directory ‘/root/.kaggle’: File exists\n",
            "sentiment-analysis-on-financial-tweets.zip: Skipping, found more recently modified local copy (use --force to force download)\n"
          ]
        }
      ],
      "source": [
        "# upload kaggle API token into the folder which comes up on connecting\n",
        "! pip install kaggle \n",
        "! mkdir ~/.kaggle\n",
        "! cp kaggle.json ~/.kaggle/\n",
        "! chmod 600 ~/.kaggle/kaggle.json\n",
        "! kaggle datasets download vivekrathi055/sentiment-analysis-on-financial-tweets"
      ]
    },
    {
      "cell_type": "code",
      "source": [
        "! unzip sentiment-analysis-on-financial-tweets"
      ],
      "metadata": {
        "colab": {
          "base_uri": "https://localhost:8080/"
        },
        "id": "xnKb--cAukdm",
        "outputId": "f4296452-eaab-4aeb-a63f-c898953125ce"
      },
      "execution_count": 4,
      "outputs": [
        {
          "output_type": "stream",
          "name": "stdout",
          "text": [
            "Archive:  sentiment-analysis-on-financial-tweets.zip\n",
            "  inflating: stockerbot-export1.csv  \n",
            "  inflating: tweet_sentiment.csv     \n"
          ]
        }
      ]
    },
    {
      "cell_type": "code",
      "source": [
        "# Mount the Drive\n",
        "from google.colab import drive\n",
        "drive.mount('/content/gdrive')"
      ],
      "metadata": {
        "id": "kPFb-tE-vynj",
        "colab": {
          "base_uri": "https://localhost:8080/"
        },
        "outputId": "471e3c99-2e14-4e47-ffcc-2b44793232ca"
      },
      "execution_count": 5,
      "outputs": [
        {
          "output_type": "stream",
          "name": "stdout",
          "text": [
            "Mounted at /content/gdrive\n"
          ]
        }
      ]
    },
    {
      "cell_type": "code",
      "source": [
        "import os\n",
        "os.environ['KAGGLE_CONFIG_DIR'] = \"/content/kaggle.json\"\n",
        "! cd /content"
      ],
      "metadata": {
        "id": "vsRQpstnwwaL"
      },
      "execution_count": 6,
      "outputs": []
    },
    {
      "cell_type": "code",
      "source": [
        "import pandas as pd\n",
        "dataset = pd.read_csv('/content/stockerbot-export1.csv')\n",
        "dataset.head()"
      ],
      "metadata": {
        "colab": {
          "base_uri": "https://localhost:8080/",
          "height": 250
        },
        "id": "mghX6MT-w3C0",
        "outputId": "74009cd0-516d-4f13-aa35-bb00103ff671"
      },
      "execution_count": 7,
      "outputs": [
        {
          "output_type": "execute_result",
          "data": {
            "text/plain": [
              "            id                                               text  \\\n",
              "0   1.0197E+18  VIDEO: “I was in my office. I was minding my o...   \n",
              "1  1.01971E+18  The price of lumber $LB_F is down 22% since hi...   \n",
              "2  1.01971E+18  Who says the American Dream is dead? https://t...   \n",
              "3  1.01972E+18  Barry Silbert is extremely optimistic on bitco...   \n",
              "4  1.01972E+18  How satellites avoid attacks and space junk wh...   \n",
              "\n",
              "                        timestamp        source symbols      company_names  \\\n",
              "0  Wed Jul 18 21:33:26 +0000 2018  GoldmanSachs      GS  The Goldman Sachs   \n",
              "1  Wed Jul 18 22:22:47 +0000 2018    StockTwits       M             Macy's   \n",
              "2  Wed Jul 18 22:32:01 +0000 2018     TheStreet     AIG           American   \n",
              "3  Wed Jul 18 22:52:52 +0000 2018   MarketWatch     BTC            Bitcoin   \n",
              "4  Wed Jul 18 23:00:01 +0000 2018        Forbes    ORCL             Oracle   \n",
              "\n",
              "                                                 url verified  \n",
              "0  https://twitter.com/i/web/status/1019696670777...     TRUE  \n",
              "1  https://twitter.com/i/web/status/1019709091038...     TRUE  \n",
              "2                            https://buff.ly/2L3kmc4     TRUE  \n",
              "3  https://twitter.com/i/web/status/1019716662587...     TRUE  \n",
              "4                     http://on.forbes.com/6013DqDDU     TRUE  "
            ],
            "text/html": [
              "\n",
              "  <div id=\"df-7095b40b-7b40-4baa-8b25-8899e8fce0b4\">\n",
              "    <div class=\"colab-df-container\">\n",
              "      <div>\n",
              "<style scoped>\n",
              "    .dataframe tbody tr th:only-of-type {\n",
              "        vertical-align: middle;\n",
              "    }\n",
              "\n",
              "    .dataframe tbody tr th {\n",
              "        vertical-align: top;\n",
              "    }\n",
              "\n",
              "    .dataframe thead th {\n",
              "        text-align: right;\n",
              "    }\n",
              "</style>\n",
              "<table border=\"1\" class=\"dataframe\">\n",
              "  <thead>\n",
              "    <tr style=\"text-align: right;\">\n",
              "      <th></th>\n",
              "      <th>id</th>\n",
              "      <th>text</th>\n",
              "      <th>timestamp</th>\n",
              "      <th>source</th>\n",
              "      <th>symbols</th>\n",
              "      <th>company_names</th>\n",
              "      <th>url</th>\n",
              "      <th>verified</th>\n",
              "    </tr>\n",
              "  </thead>\n",
              "  <tbody>\n",
              "    <tr>\n",
              "      <th>0</th>\n",
              "      <td>1.0197E+18</td>\n",
              "      <td>VIDEO: “I was in my office. I was minding my o...</td>\n",
              "      <td>Wed Jul 18 21:33:26 +0000 2018</td>\n",
              "      <td>GoldmanSachs</td>\n",
              "      <td>GS</td>\n",
              "      <td>The Goldman Sachs</td>\n",
              "      <td>https://twitter.com/i/web/status/1019696670777...</td>\n",
              "      <td>TRUE</td>\n",
              "    </tr>\n",
              "    <tr>\n",
              "      <th>1</th>\n",
              "      <td>1.01971E+18</td>\n",
              "      <td>The price of lumber $LB_F is down 22% since hi...</td>\n",
              "      <td>Wed Jul 18 22:22:47 +0000 2018</td>\n",
              "      <td>StockTwits</td>\n",
              "      <td>M</td>\n",
              "      <td>Macy's</td>\n",
              "      <td>https://twitter.com/i/web/status/1019709091038...</td>\n",
              "      <td>TRUE</td>\n",
              "    </tr>\n",
              "    <tr>\n",
              "      <th>2</th>\n",
              "      <td>1.01971E+18</td>\n",
              "      <td>Who says the American Dream is dead? https://t...</td>\n",
              "      <td>Wed Jul 18 22:32:01 +0000 2018</td>\n",
              "      <td>TheStreet</td>\n",
              "      <td>AIG</td>\n",
              "      <td>American</td>\n",
              "      <td>https://buff.ly/2L3kmc4</td>\n",
              "      <td>TRUE</td>\n",
              "    </tr>\n",
              "    <tr>\n",
              "      <th>3</th>\n",
              "      <td>1.01972E+18</td>\n",
              "      <td>Barry Silbert is extremely optimistic on bitco...</td>\n",
              "      <td>Wed Jul 18 22:52:52 +0000 2018</td>\n",
              "      <td>MarketWatch</td>\n",
              "      <td>BTC</td>\n",
              "      <td>Bitcoin</td>\n",
              "      <td>https://twitter.com/i/web/status/1019716662587...</td>\n",
              "      <td>TRUE</td>\n",
              "    </tr>\n",
              "    <tr>\n",
              "      <th>4</th>\n",
              "      <td>1.01972E+18</td>\n",
              "      <td>How satellites avoid attacks and space junk wh...</td>\n",
              "      <td>Wed Jul 18 23:00:01 +0000 2018</td>\n",
              "      <td>Forbes</td>\n",
              "      <td>ORCL</td>\n",
              "      <td>Oracle</td>\n",
              "      <td>http://on.forbes.com/6013DqDDU</td>\n",
              "      <td>TRUE</td>\n",
              "    </tr>\n",
              "  </tbody>\n",
              "</table>\n",
              "</div>\n",
              "      <button class=\"colab-df-convert\" onclick=\"convertToInteractive('df-7095b40b-7b40-4baa-8b25-8899e8fce0b4')\"\n",
              "              title=\"Convert this dataframe to an interactive table.\"\n",
              "              style=\"display:none;\">\n",
              "        \n",
              "  <svg xmlns=\"http://www.w3.org/2000/svg\" height=\"24px\"viewBox=\"0 0 24 24\"\n",
              "       width=\"24px\">\n",
              "    <path d=\"M0 0h24v24H0V0z\" fill=\"none\"/>\n",
              "    <path d=\"M18.56 5.44l.94 2.06.94-2.06 2.06-.94-2.06-.94-.94-2.06-.94 2.06-2.06.94zm-11 1L8.5 8.5l.94-2.06 2.06-.94-2.06-.94L8.5 2.5l-.94 2.06-2.06.94zm10 10l.94 2.06.94-2.06 2.06-.94-2.06-.94-.94-2.06-.94 2.06-2.06.94z\"/><path d=\"M17.41 7.96l-1.37-1.37c-.4-.4-.92-.59-1.43-.59-.52 0-1.04.2-1.43.59L10.3 9.45l-7.72 7.72c-.78.78-.78 2.05 0 2.83L4 21.41c.39.39.9.59 1.41.59.51 0 1.02-.2 1.41-.59l7.78-7.78 2.81-2.81c.8-.78.8-2.07 0-2.86zM5.41 20L4 18.59l7.72-7.72 1.47 1.35L5.41 20z\"/>\n",
              "  </svg>\n",
              "      </button>\n",
              "      \n",
              "  <style>\n",
              "    .colab-df-container {\n",
              "      display:flex;\n",
              "      flex-wrap:wrap;\n",
              "      gap: 12px;\n",
              "    }\n",
              "\n",
              "    .colab-df-convert {\n",
              "      background-color: #E8F0FE;\n",
              "      border: none;\n",
              "      border-radius: 50%;\n",
              "      cursor: pointer;\n",
              "      display: none;\n",
              "      fill: #1967D2;\n",
              "      height: 32px;\n",
              "      padding: 0 0 0 0;\n",
              "      width: 32px;\n",
              "    }\n",
              "\n",
              "    .colab-df-convert:hover {\n",
              "      background-color: #E2EBFA;\n",
              "      box-shadow: 0px 1px 2px rgba(60, 64, 67, 0.3), 0px 1px 3px 1px rgba(60, 64, 67, 0.15);\n",
              "      fill: #174EA6;\n",
              "    }\n",
              "\n",
              "    [theme=dark] .colab-df-convert {\n",
              "      background-color: #3B4455;\n",
              "      fill: #D2E3FC;\n",
              "    }\n",
              "\n",
              "    [theme=dark] .colab-df-convert:hover {\n",
              "      background-color: #434B5C;\n",
              "      box-shadow: 0px 1px 3px 1px rgba(0, 0, 0, 0.15);\n",
              "      filter: drop-shadow(0px 1px 2px rgba(0, 0, 0, 0.3));\n",
              "      fill: #FFFFFF;\n",
              "    }\n",
              "  </style>\n",
              "\n",
              "      <script>\n",
              "        const buttonEl =\n",
              "          document.querySelector('#df-7095b40b-7b40-4baa-8b25-8899e8fce0b4 button.colab-df-convert');\n",
              "        buttonEl.style.display =\n",
              "          google.colab.kernel.accessAllowed ? 'block' : 'none';\n",
              "\n",
              "        async function convertToInteractive(key) {\n",
              "          const element = document.querySelector('#df-7095b40b-7b40-4baa-8b25-8899e8fce0b4');\n",
              "          const dataTable =\n",
              "            await google.colab.kernel.invokeFunction('convertToInteractive',\n",
              "                                                     [key], {});\n",
              "          if (!dataTable) return;\n",
              "\n",
              "          const docLinkHtml = 'Like what you see? Visit the ' +\n",
              "            '<a target=\"_blank\" href=https://colab.research.google.com/notebooks/data_table.ipynb>data table notebook</a>'\n",
              "            + ' to learn more about interactive tables.';\n",
              "          element.innerHTML = '';\n",
              "          dataTable['output_type'] = 'display_data';\n",
              "          await google.colab.output.renderOutput(dataTable, element);\n",
              "          const docLink = document.createElement('div');\n",
              "          docLink.innerHTML = docLinkHtml;\n",
              "          element.appendChild(docLink);\n",
              "        }\n",
              "      </script>\n",
              "    </div>\n",
              "  </div>\n",
              "  "
            ]
          },
          "metadata": {},
          "execution_count": 7
        }
      ]
    },
    {
      "cell_type": "markdown",
      "source": [
        "## PRE PROCESSING"
      ],
      "metadata": {
        "id": "adqcW5z9P6-Y"
      }
    },
    {
      "cell_type": "code",
      "source": [
        "tweets = dataset[\"text\"].tolist() # convert tweets to a list "
      ],
      "metadata": {
        "id": "NLFnR6LFyIgu"
      },
      "execution_count": 10,
      "outputs": []
    },
    {
      "cell_type": "code",
      "source": [
        "import regex as re\n",
        "no_link = []\n",
        "\n",
        "def remove_links(tweet):\n",
        "    \"\"\"Takes a string and removes web links from it\"\"\"\n",
        "    tweet = re.sub(r'http\\S+', '', tweet)   # remove http links\n",
        "    tweet = re.sub(r'bit.ly/\\S+', '', tweet)  # remove bitly links\n",
        "    tweet = tweet.strip('[link]')   # remove [links]\n",
        "    tweet = re.sub(r'pic.twitter\\S+','', tweet)\n",
        "    return tweet\n",
        "\n",
        "for i in tweets:\n",
        "  no_link.append(remove_links(i))\n",
        "\n",
        "print(no_link[0])"
      ],
      "metadata": {
        "colab": {
          "base_uri": "https://localhost:8080/"
        },
        "id": "khS90h1L8hdy",
        "outputId": "e221c52e-cdb6-4b8e-d9f2-3379031c8d6a"
      },
      "execution_count": 11,
      "outputs": [
        {
          "output_type": "stream",
          "name": "stdout",
          "text": [
            "VIDEO: “I was in my office. I was minding my own business...” –David Solomon tells $GS interns how he learned he wa… \n"
          ]
        }
      ]
    },
    {
      "cell_type": "code",
      "source": [
        "# CONVERT TO LOWER CASE\n",
        "import re\n",
        "low = []\n",
        "\n",
        "def lower(tweets):\n",
        "  data = re.sub(' +',' ',tweets)\n",
        "  lower_text = data.lower()\n",
        "  return lower_text\n",
        "\n",
        "for i in no_link:\n",
        "    low.append(lower(i))"
      ],
      "metadata": {
        "id": "3kjkmlvm2IAD"
      },
      "execution_count": 12,
      "outputs": []
    },
    {
      "cell_type": "code",
      "source": [
        "print(low[0])"
      ],
      "metadata": {
        "colab": {
          "base_uri": "https://localhost:8080/"
        },
        "id": "N1P2Ed1V7Mfl",
        "outputId": "e06e5d20-9efd-429e-acf9-d89b332b2b81"
      },
      "execution_count": 13,
      "outputs": [
        {
          "output_type": "stream",
          "name": "stdout",
          "text": [
            "video: “i was in my office. i was minding my own business...” –david solomon tells $gs interns how he learned he wa… \n"
          ]
        }
      ]
    },
    {
      "cell_type": "code",
      "source": [
        "# REMOVE PUNCTUATION\n",
        "def remove_punctuation(words):\n",
        "  new_words = []\n",
        "  for word in words:\n",
        "    new_word = re.sub(r'[^\\w\\s]', '', (word))\n",
        "    if new_word != '':\n",
        "       new_words.append(new_word)\n",
        "  return new_words\n",
        "\n",
        "new = remove_punctuation(low)\n",
        "print(new[0])"
      ],
      "metadata": {
        "colab": {
          "base_uri": "https://localhost:8080/"
        },
        "id": "X5a3-5rr61fT",
        "outputId": "b7914390-3e44-463c-906f-98776d8826fc"
      },
      "execution_count": 14,
      "outputs": [
        {
          "output_type": "stream",
          "name": "stdout",
          "text": [
            "video i was in my office i was minding my own business david solomon tells gs interns how he learned he wa \n"
          ]
        }
      ]
    },
    {
      "cell_type": "code",
      "source": [
        "# REMOVE USERS \n",
        "no_user = []\n",
        "\n",
        "def remove_users(tweet):\n",
        "    \"\"\"Takes a string and removes retweet and @user information\"\"\"\n",
        "    tweet = re.sub('(RT\\s@[A-Za-z]+[A-Za-z0-9-_]+)', '', tweet)  # remove re-tweet\n",
        "    tweet = re.sub('(@[A-Za-z]+[A-Za-z0-9-_]+)', '', tweet)  # remove tweeted at\n",
        "    return tweet\n",
        "\n",
        "for i in new:\n",
        "    no_user.append(remove_users(i))\n",
        "\n",
        "print(no_user[0])"
      ],
      "metadata": {
        "colab": {
          "base_uri": "https://localhost:8080/"
        },
        "id": "XzbroVv79aU9",
        "outputId": "881e25c6-2f60-434d-d4b3-f5a8fe74e3f0"
      },
      "execution_count": 15,
      "outputs": [
        {
          "output_type": "stream",
          "name": "stdout",
          "text": [
            "video i was in my office i was minding my own business david solomon tells gs interns how he learned he wa \n"
          ]
        }
      ]
    },
    {
      "cell_type": "code",
      "source": [
        "# REMOVE HASHTAGS\n",
        "no_hash = []\n",
        "\n",
        "def remove_hashtags(tweet):\n",
        "    \"\"\"Takes a string and removes any hash tags\"\"\"\n",
        "    tweet = re.sub('(#[A-Za-z]+[A-Za-z0-9-_]+)', '', tweet)  # remove hash tags\n",
        "    return tweet\n",
        "\n",
        "for i in no_user:\n",
        "    no_hash.append(remove_hashtags(i))\n",
        "\n",
        "print(no_hash[0])"
      ],
      "metadata": {
        "colab": {
          "base_uri": "https://localhost:8080/"
        },
        "id": "0hCkXctF-CmR",
        "outputId": "3be2880a-4153-4f1c-e3d1-4cbee7f2f8cf"
      },
      "execution_count": 16,
      "outputs": [
        {
          "output_type": "stream",
          "name": "stdout",
          "text": [
            "video i was in my office i was minding my own business david solomon tells gs interns how he learned he wa \n"
          ]
        }
      ]
    },
    {
      "cell_type": "code",
      "source": [
        "# REMOVE SPACES AND DIGITS \n",
        "data_final = []\n",
        "\n",
        "def spaces_digits(tweet):\n",
        "    tweet = re.sub('\\s+', ' ', tweet)  # remove multi spacing\n",
        "    tweet = re.sub('([0-9]+)', '', tweet)  # remove numbers\n",
        "    return tweet\n",
        "\n",
        "for i in no_hash:\n",
        "  data_final.append(spaces_digits(i))\n",
        "\n",
        "print(data_final[0])"
      ],
      "metadata": {
        "colab": {
          "base_uri": "https://localhost:8080/"
        },
        "id": "ec6hKMg6_AkI",
        "outputId": "9f61ed4b-dc17-467b-c0b0-86d12631d992"
      },
      "execution_count": 17,
      "outputs": [
        {
          "output_type": "stream",
          "name": "stdout",
          "text": [
            "video i was in my office i was minding my own business david solomon tells gs interns how he learned he wa \n"
          ]
        }
      ]
    },
    {
      "cell_type": "code",
      "source": [
        "# REMOVE STOP WORDS\n",
        "\n",
        "import nltk\n",
        "nltk.download('stopwords')\n",
        "\n",
        "from nltk.corpus import stopwords\n",
        "stop_words = set(stopwords.words('english'))\n",
        "\n",
        "res = [] # resultant list of cleaned strings\n",
        "\n",
        "for s in data_final:\n",
        "  lst_string = [s][0].split()\n",
        "  \n",
        "  no_stpwords_string=\"\" #new string created \n",
        "  for i in lst_string:\n",
        "    if not i in stop_words:\n",
        "        no_stpwords_string += i + ' '\n",
        "  no_stpwords_string = no_stpwords_string[:-1]\n",
        "  res.append(no_stpwords_string)\n",
        "\n",
        "print(res[0]) # example cleaned string "
      ],
      "metadata": {
        "colab": {
          "base_uri": "https://localhost:8080/"
        },
        "id": "VTw_tg-5xrza",
        "outputId": "62f81860-ed78-4be2-e168-4d2cb67ea9cd"
      },
      "execution_count": 18,
      "outputs": [
        {
          "output_type": "stream",
          "name": "stdout",
          "text": [
            "[nltk_data] Downloading package stopwords to /root/nltk_data...\n",
            "[nltk_data]   Unzipping corpora/stopwords.zip.\n",
            "video office minding business david solomon tells gs interns learned wa\n"
          ]
        }
      ]
    },
    {
      "cell_type": "markdown",
      "source": [
        "### TOKENISATION"
      ],
      "metadata": {
        "id": "v0WIcvvFQEzT"
      }
    },
    {
      "cell_type": "code",
      "source": [
        "from nltk.tokenize import regexp_tokenize\n",
        "  \n",
        "res_fin = [sub.split() for sub in res] #creates a list of lists for all tweets tokenised\n",
        "print(res_fin[0])"
      ],
      "metadata": {
        "colab": {
          "base_uri": "https://localhost:8080/"
        },
        "id": "7AkzBKyXzgMW",
        "outputId": "c49155e6-97d2-46b4-f283-8f90febadab1"
      },
      "execution_count": 19,
      "outputs": [
        {
          "output_type": "stream",
          "name": "stdout",
          "text": [
            "['video', 'office', 'minding', 'business', 'david', 'solomon', 'tells', 'gs', 'interns', 'learned', 'wa']\n"
          ]
        }
      ]
    },
    {
      "cell_type": "markdown",
      "source": [
        "### STEMMING"
      ],
      "metadata": {
        "id": "ZcEcJQjAQNAj"
      }
    },
    {
      "cell_type": "code",
      "source": [
        "from nltk.stem import PorterStemmer\n",
        "porter = PorterStemmer()\n",
        "stemmed = []\n",
        "for words in res_fin:\n",
        "    temp = [porter.stem(i) for i in words]\n",
        "    stemmed.append(temp)\n",
        "print(stemmed[0])    "
      ],
      "metadata": {
        "colab": {
          "base_uri": "https://localhost:8080/"
        },
        "id": "o7tVvjgq1bNm",
        "outputId": "36ef1b9e-865e-4423-c78f-af4ef37cd526"
      },
      "execution_count": 20,
      "outputs": [
        {
          "output_type": "stream",
          "name": "stdout",
          "text": [
            "['video', 'offic', 'mind', 'busi', 'david', 'solomon', 'tell', 'gs', 'intern', 'learn', 'wa']\n"
          ]
        }
      ]
    },
    {
      "cell_type": "markdown",
      "source": [
        "### LEMMATISATION"
      ],
      "metadata": {
        "id": "0lQzhY3WQS58"
      }
    },
    {
      "cell_type": "code",
      "source": [
        "import nltk\n",
        "nltk.download(\"wordnet\")"
      ],
      "metadata": {
        "colab": {
          "base_uri": "https://localhost:8080/"
        },
        "id": "OjvSzSJ-7NzZ",
        "outputId": "5db83825-f7f3-4b8a-ff39-105304ff44fa"
      },
      "execution_count": 21,
      "outputs": [
        {
          "output_type": "stream",
          "name": "stdout",
          "text": [
            "[nltk_data] Downloading package wordnet to /root/nltk_data...\n",
            "[nltk_data]   Unzipping corpora/wordnet.zip.\n"
          ]
        },
        {
          "output_type": "execute_result",
          "data": {
            "text/plain": [
              "True"
            ]
          },
          "metadata": {},
          "execution_count": 21
        }
      ]
    },
    {
      "cell_type": "code",
      "source": [
        "# import these modules\n",
        "from nltk.stem import WordNetLemmatizer\n",
        " \n",
        "lemmatizer = WordNetLemmatizer()\n",
        "\n",
        "lemmatised = []\n",
        "for words in stemmed:\n",
        "  temp = [lemmatizer.lemmatize(i) for i in words]\n",
        "  lemmatised.append(temp)\n",
        "print(lemmatised[0])  "
      ],
      "metadata": {
        "colab": {
          "base_uri": "https://localhost:8080/"
        },
        "id": "Gu5t8WnS6fsN",
        "outputId": "7676f5eb-8b07-4ee1-f736-c7a00360059a"
      },
      "execution_count": 22,
      "outputs": [
        {
          "output_type": "stream",
          "name": "stdout",
          "text": [
            "['video', 'offic', 'mind', 'busi', 'david', 'solomon', 'tell', 'g', 'intern', 'learn', 'wa']\n"
          ]
        }
      ]
    },
    {
      "cell_type": "code",
      "source": [
        "lemmatised.append(\"a\")"
      ],
      "metadata": {
        "id": "QhSQ-po6CHs_"
      },
      "execution_count": 23,
      "outputs": []
    },
    {
      "cell_type": "code",
      "source": [
        " # Lemmatised is a list of lists. Split this dataset into parts\n",
        "import numpy as np\n",
        "documents = []\n",
        "print(len(lemmatised))\n",
        "k = 0\n",
        "for i in range(60):\n",
        "    doc=[]\n",
        "    for j in range(474):\n",
        "        doc.append(lemmatised[k])\n",
        "        k+=1\n",
        "    documents.append(doc)   \n",
        "print(documents[0])"
      ],
      "metadata": {
        "colab": {
          "base_uri": "https://localhost:8080/"
        },
        "id": "HZd3_F-i8stx",
        "outputId": "5bbcdaa1-4015-447f-feb8-5ef497dcce70"
      },
      "execution_count": 33,
      "outputs": [
        {
          "output_type": "stream",
          "name": "stdout",
          "text": [
            "28440\n",
            "[['video', 'offic', 'mind', 'busi', 'david', 'solomon', 'tell', 'g', 'intern', 'learn', 'wa'], ['price', 'lumber', 'lb_f', 'sinc', 'hit', 'ytd', 'high', 'maci', 'turnaround', 'still', 'happen'], ['say', 'american', 'dream', 'dead'], ['barri', 'silbert', 'extrem', 'optimist', 'bitcoin', 'predict', 'new', 'crypto', 'entrant', 'go', 'zero'], ['satellit', 'avoid', 'attack', 'space', 'junk', 'circl', 'earth', 'paid', 'oracl'], ['realmoney', 'david', 'butler', 'favorit', 'fang', 'stock', 'isnt', 'realmoneysod', 'alphabet', 'facebook'], ['dont', 'miss', 'convo', 'one', 'favorit', 'thinker', 'samharrisorg'], ['u', 'intellig', 'document', 'nelson', 'mandela', 'made', 'public'], ['senat', 'want', 'emerg', 'alert', 'go', 'netflix', 'spotifi', 'etc', 'grg'], ['hedg', 'fund', 'manag', 'marc', 'larsi', 'say', 'bitcoin', 'k', 'possibl'], ['u', 'propos', 'expedit', 'appeal', 'fight', 'atampt', 'time', 'warner', 'purchas'], ['roger', 'feder', 'uniqlo', 'deal', 'make', 'one', 'athlet', 'earn', 'endors'], ['bond', 'trader', 'ahead', 'jerom', 'powel', 'come', 'inflat', 'expect', 'via'], ['alcoa', 'cut', 'adjust', 'ebitda', 'forecast', 'cite', 'tariff', 'share', 'slide'], ['custom', 'urg', 'boycott', 'mgm', 'resort', 'casino', 'file', 'lawsuit', 'mass', 'shoot', 'victim'], ['gap', 'tighten', 'race', 'trillion', 'dollar', 'valuat', 'amazon', 'hit', 'billion', 'via'], ['presid', 'trump', 'endors', 'brian', 'kemp', 'casey', 'cagl', 'georgia', 'governor', 'race'], ['white', 'hous', 'struggl', 'contain', 'fallout', 'trumpputin', 'summit'], ['laker', 'guard', 'hart', 'name', 'summer', 'leagu', 'mvp', 'u', 'sport', 'headlin'], ['two', 'northern', 'white', 'rhino', 'still', 'exist', 'make', 'world', 'endang', 'subspeci', 'mammal'], ['trump', 'tell', 'cb', 'he', 'alway', 'want', 'interview', 'special', 'counsel', 'mueller', 'deflect', 'question', 'wheth'], ['templeton', 'blackrock', 'say', 'now', 'time', 'buy', 'emerg', 'market'], ['chart', 'say', 'realmoneysod', 'googl', 'could', 'rise', 'brucekamich'], ['ebay', 'revenu', 'miss', 'weak', 'u', 'sport', 'season', 'hit', 'stubhub'], ['new', 'york', 'citi', 'forc', 'airbnb', 'disclos', 'inform', 'host'], ['rt', 'josheidelson', 'exclus', 'elon', 'musk', 'call', 'sierra', 'club', 'execut', 'director', 'saturday', 'ask', 'help', 'via', 'twitter', 'green', 'gr'], ['new', 'time', 'janet', 'yellen', 'convers', 'brook', 'feb', 'pm', 'est', 'join', 'u', 'onlin', 'facebook', 'liv'], ['robot', 'homi', 'rd', 'told', 'buy', 'sell', 'hold', 'fidel', 'nation', 'inform', 'servic', 'fi', 'bullmarket'], ['arthur', 'j', 'gallagh', 'amp', 'co', 'ajg', 'v', 'marsh', 'amp', 'mclennan', 'compani', 'mmc', 'critic', 'contrast'], ['arthur', 'j', 'gallagh', 'amp', 'co', 'ajg', 'v', 'marsh', 'amp', 'mclennan', 'compani', 'mmc', 'critic', 'contrast'], ['info', 'c', 'asia', 'stock', 'signal', 'gain', 'dollar', 'weak', 'watch', 'market', 'wrap', 'via'], ['rt', 'dailypoliticaln', 'fluor', 'co', 'new', 'flr', 'stock', 'rate', 'upgrad', 'zack', 'invest', 'research'], ['averi', 'dennison', 'corpor', 'avi', 'ep', 'estim'], ['what', 'shake', 'guy', 'inflat', 'amp', 'bank', 'earn', 'market', 'shaker', 'week'], ['ep', 'averi', 'dennison', 'corpor', 'avi', 'expect'], ['averi', 'dennison', 'corpor', 'avi', 'ep', 'estim'], ['rt', 'oliviabvoz', 'what', 'shake', 'guy', 'inflat', 'amp', 'bank', 'earn', 'market', 'shaker', 'week', 'pep', 'fst'], ['know', 'book', 'valu', 'xyl'], ['know', 'wallstreet', 'price', 'irm'], ['wonder', 'risk', 'irm', 'day', 'volatil'], ['orli', 'max', 'pain', 'matur', 'maxpain', 'option'], ['avb', 'max', 'pain', 'matur', 'maxpain', 'option'], ['cube', 'exr', 'hog', 'ko', 'lsi', 'psa', 'irm'], ['mtt', 'weekli', 'watchlist', 'juli', 'th', 'cxo', 'hp', 'rspp'], ['analyst', 'expect', 'mosaic', 'co', 'mo', 'announc', 'earn', 'per', 'share'], ['billion', 'sale', 'expect', 'mosaic', 'co', 'mo', 'quarter'], ['day', 'doubl', 'account', 'option', 'trade', 'winner', 'nojok', 'xrx', 'mrtx'], ['ni', 'high', 'oi', 'rang', 'option', 'expir', 'maxpain', 'option'], ['rt', 'tradesatoshi', 'amg', 'amgchain', 'delist', 'tradesatoshi', 'dev', 'reset', 'blockchain', 'inform', 'u', 'caus', 'lo'], ['payment', 'halt', 'obamacar', 'program', 'unh', 'aet', 'antm', 'ci', 'hum', 'wcg', 'cnc', 'moh'], ['rt', 'forever_t_', 'there', 'goe', 'sode', 'break', 'thing', 'least', 'theyr', 'get', 'paid', 'fix', 'acm', 'aegn', 'agx', 'bflbf', 'bld', 'dy', 'em'], ['jec', 'max', 'pain', 'matur', 'maxpain', 'option'], ['rt', 'forever_t_', 'there', 'goe', 'sode', 'break', 'thing', 'least', 'theyr', 'get', 'paid', 'fix', 'acm', 'aegn', 'agx', 'bflbf', 'bld', 'dy', 'em'], ['short', 'sale', 'volum', 'short', 'interest', 'ijr', 'sen', 'dvn', 'xli', 'odp'], ['coo', 'high', 'oi', 'rang', 'option', 'expir', 'maxpain', 'option'], ['rt', 'forever_t_', 'there', 'goe', 'sode', 'break', 'thing', 'least', 'theyr', 'get', 'paid', 'fix', 'acm', 'aegn', 'agx', 'bflbf', 'bld', 'dy', 'em'], ['snp', 'hire', 'rival', 'cdn', 'reduc', 'headcount'], ['info', 'pep', 'five', 'thing', 'need', 'know', 'start', 'day', 'via'], ['ew', 'job', 'open', 'growth', 'snp', 'v', 'cdn'], ['rt', 'wallstjesu', 'repeat', 'buy', 'biotech', 'arri'], ['reg', 'max', 'pain', 'matur', 'maxpain', 'option'], ['rt', 'oliviabvoz', 'what', 'shake', 'guy', 'inflat', 'amp', 'bank', 'earn', 'market', 'shaker', 'week', 'pep', 'fst'], ['rt', 'optionshawk', 'ajg', 'ceo', 'bought', 'k', 'stock', 'may', 'one', 'follow', 'alway', 'prefer', 'play', 'mine', 'group', 'sit', 'right'], ['rt', 'tradewithjo', 'juli', 'call', 'activ', 'today', 'arri'], ['robert', 'half', 'intern', 'inc', 'rhi', 'analyst', 'see', 'ep'], ['ep', 'expect', 'robert', 'half', 'intern', 'inc', 'rhi'], ['ep', 'robert', 'half', 'intern', 'inc', 'rhi', 'expect'], ['rt', 'mttstrade', 'mtt', 'weekli', 'watchlist', 'juli', 'th', 'cxo', 'hp', 'rspp'], ['rt', 'wallstjesu', 'repeat', 'buy', 'biotech', 'arri'], ['insid', 'wk', 'scan', 'akam', 'amat', 'axp', 'ba', 'blue', 'box', 'bzun', 'c', 'cat', 'cmcsa', 'csco', 'dbx', 'di', 'de', 'docu', 'dltr', 'ebay', 'fdx'], ['jd', 'arri', 'pypl', 'ui', 'min', 'daili', 'setup', 'monday'], ['rt', 'dgarciachart', 'insid', 'wk', 'scan', 'akam', 'amat', 'axp', 'ba', 'blue', 'box', 'bzun', 'c', 'cat', 'cmcsa', 'csco', 'dbx', 'di', 'de', 'docu', 'dltr', 'ebay', 'fdx', 'fey', 'f'], ['rt', 'wallstjesu', 'repeat', 'buy', 'biotech', 'arri'], ['short', 'sale', 'vol', 'short', 'interest', 'cyh', 'thc', 'sem', 'ssi', 'hca'], ['rt', 'forever_t_', 'there', 'goe', 'sode', 'break', 'thing', 'least', 'theyr', 'get', 'paid', 'fix', 'acm', 'aegn', 'agx', 'bflbf', 'bld', 'dy', 'em'], ['finisar', 'co', 'fnsr', 'expect', 'announc', 'quarterli', 'sale', 'million'], ['finisar', 'co', 'fnsr', 'expect', 'post', 'quarterli', 'sale', 'million'], ['possibl', 'play', 'sgmo', 'txmd', 'abu', 'vktx', 'ecyt', 'vstm', 'sgyp', 'trvn', 'nvax', 'opk', 'ocul', 'gern', 'vrx', 'tsro', 'akao', 'let', 'see', 'pick', 'follow'], ['rt', 'tradewithjo', 'spi', 'option', 'flow', 'alert', 'eem', 'arri', 'car', 'jd', 'bll', 'v', 'cazr', 'bx', 'vip', 'opk', 'bac', 'wfc', 'xop', 'jw'], ['rt', 'dgarciachart', 'insid', 'wk', 'scan', 'akam', 'amat', 'axp', 'ba', 'blue', 'box', 'bzun', 'c', 'cat', 'cmcsa', 'csco', 'dbx', 'di', 'de', 'docu', 'dltr', 'ebay', 'fdx', 'fey', 'f'], ['buy', 'option', 'land', 'friday', 'qsr', 'igt', 'skx', 'voya', 'fcx', 'nvo', 'pxd', 'vip', 'vvv', 'sgm', 'pii', 'etfc', 'bll', 'gpro'], ['short', 'sale', 'volumenot', 'short', 'interest', 'wu', 'fi', 'mgi', 'wex'], ['weekli', 'recap', 'hsi', 'price', 'move', 'sinc', 'post', 'next', 'stop', 'trade', 'includ', 'aa', 'spi', 'baba', 'mdso', 'ayi', 'fb', 'sh'], ['ans', 'high', 'oi', 'rang', 'option', 'expir', 'maxpain', 'option'], ['rt', 'oliviabvoz', 'what', 'shake', 'guy', 'inflat', 'amp', 'bank', 'earn', 'market', 'shaker', 'week', 'pep', 'fst'], ['monday', 'watch', 'amzn', 'googl', 'fb', 'aapl', 'amd', 'bidu', 'baba', 'btcx', 'ethx', 'biib', 'celg', 'gild', 'intc', 'jd', 'arql', 'arri', 'arwr'], ['pnr', 'broker', 'price', 'target'], ['rt', 'mchaudhri', 'monday', 'watch', 'amzn', 'googl', 'fb', 'aapl', 'amd', 'bidu', 'baba', 'btcx', 'ethx', 'biib', 'celg', 'gild', 'intc', 'jd', 'arql', 'arri', 'arwr', 'endp'], ['short', 'sale', 'vol', 'short', 'interest', 'amat', 'lrcx', 'snp', 'ter', 'klac'], ['rt', 'forever_t_', 'there', 'goe', 'sode', 'break', 'thing', 'least', 'theyr', 'get', 'paid', 'fix', 'acm', 'aegn', 'agx', 'bflbf', 'bld', 'dy', 'em'], ['mo', 'outsid', 'day', 'gt', 'sma'], ['ep', 'expect', 'ddr', 'corp', 'ddr'], ['rt', 'kelvo', 'watch', 'list', 'tomorrow', 'fb', 'aapl', 'ba', 'nvda', 'baba', 'el', 'alway', 'learn', 'tune', 'small', 'hand', 'full'], ['revers', 'merger', 'tweet', 'qqq', 'aapl', 'tvix', 'veon', 'csco', 'siri', 'rook', 'mu', 'msft', 'fb', 'sqqq', 'intc', 'cmcsa', 'amat', 'nvda', 'sgmo'], ['swing', 'trade', 'watchlist', 'week', 'chart', 'candlegl', 'ipgp', 'vrn', 'anet', 'mdb', 'tif', 'olli', 'expd', 'ea', 'kmg', 'hd'], ['revers', 'merger', 'tweet', 'pten', 'nwl', 'tjx', 'epd', 'tbt', 'ne', 'tal', 'spx', 'mxim', 'well', 'mmm', 'src', 'csx', 'kbr', 'mhk', 'odp', 'mhk', 'src'], ['rt', 'forever_t_', 'there', 'goe', 'sode', 'break', 'thing', 'least', 'theyr', 'get', 'paid', 'fix', 'acm', 'aegn', 'agx', 'bflbf', 'bld', 'dy', 'em'], ['rt', 'oneoclockdrop', 'revers', 'merger', 'tweet', 'pten', 'nwl', 'tjx', 'epd', 'tbt', 'ne', 'tal', 'spx', 'mxim', 'well', 'mmm', 'src', 'csx', 'kbr', 'mhk', 'odp', 'mhk', 'src', 'pep'], ['billion', 'sale', 'expect', 'jacob', 'engin', 'group', 'inc', 'jec', 'quarter'], ['abg', 'algn', 'ba', 'dltr', 'htht', 'kor', 'nsp', 'spi', 'uri'], ['short', 'sale', 'volumenot', 'short', 'interest', 'aee', 'cm', 'exc', 'sre'], ['ajg', 'arthur', 'j', 'gallagh', 'amp', 'co', 'acquir', 'miln', 'alexand', 'stock', 'news', 'alert', 'app'], ['portfolio', 'johnauth', 'abg', 'algn', 'ba', 'dltr', 'htht', 'kor', 'nsp', 'spi', 'uri'], ['zack', 'brokerag', 'anticip', 'aon', 'plc', 'aon', 'post', 'quarterli', 'sale', 'billion'], ['contrast', 'miragen', 'therapeut', 'mgen', 'amp', 'laboratori', 'corp', 'america', 'lh'], ['aan', 'aapl', 'abbv', 'adm', 'afl', 'all', 'amgp', 'amp', 'amt', 'andx', 'aon', 'ao', 'apd', 'apog', 'aqn', 'avgo', 'ay', 'bac', 'bam', 'bep', 'bip'], ['apart', 'invest', 'manag', 'aiv', 'hold', 'rate', 'reiter', 'bmo', 'capit', 'market'], ['everest', 'group', 'heritag', 'insur', 'hrtg', 'critic', 'contrast'], ['ar', 'cgc', 'dave', 'gnc', 'hsi', 'icon', 'kmb', 'pep', 'pg', 'rrc', 'smrt', 'wtw'], ['rt', 'seekingalpha', 'ar', 'cgc', 'dave', 'gnc', 'hsi', 'icon', 'kmb', 'pep', 'pg', 'rrc', 'smrt', 'wtw'], ['western', 'union', 'wu', 'stock', 'rate', 'upgrad', 'zack', 'invest', 'research'], ['western', 'union', 'wu', 'stock', 'rate', 'upgrad', 'zack', 'invest', 'research'], ['westrock', 'wrk', 'given', 'price', 'target', 'stephen'], ['analyz', 'pjt', 'partner', 'pjt', 'amp', 'affili', 'manag', 'group', 'amg'], ['westrock', 'wrk', 'given', 'price', 'target', 'stephen'], ['ch', 'robinson', 'worldwid', 'chrw', 'versu', 'expeditor', 'intern', 'washington', 'expd', 'headtohead', 'analysi'], ['critic', 'survey', 'ch', 'robinson', 'worldwid', 'chrw', 'expeditor', 'intern', 'washington', 'expd'], ['affili', 'manag', 'group', 'amg', 'versu', 'pjt', 'partner', 'pjt', 'critic', 'analysi'], ['pnr', 'readi', 'attack', 'recent', 'high', 'need', 'volum'], ['argu', 'trim', 'harri', 'hr', 'target', 'price'], ['advanc', 'auto', 'part', 'aap', 'rate', 'increas', 'buy', 'valuengin'], ['rt', 'seekingalpha', 'bwp', 'n', 'smlp', 'mmp', 'bpl', 'bkep', 'ceqp', 'nsh', 'pagp', 'oke', 'semg', 'tge', 'enb', 'ipplf', 'ppl', 'key', 'bip'], ['rt', 'seekingalpha', 'abg', 'algn', 'ba', 'dltr', 'htht', 'kor', 'nsp', 'spi', 'uri'], ['rt', 'seekingalpha', 'aan', 'aapl', 'abbv', 'adm', 'afl', 'all', 'amgp', 'amp', 'amt', 'andx', 'aon', 'ao', 'apd', 'apog', 'aqn', 'avgo', 'ay'], ['rt', 'seekingalpha', 'ar', 'cgc', 'dave', 'gnc', 'hsi', 'icon', 'kmb', 'pep', 'pg', 'rrc', 'smrt', 'wtw'], ['q', 'qtwo', 'versu', 'ansi', 'ans', 'critic', 'review'], ['headtohead', 'review', 'q', 'qtwo', 'v', 'ansi', 'ans'], ['aon', 'apollominer', 'excel', 'infrastructur', 'ground', 'condit', 'confirm', 'histor', 'salau', 'tungsten', 'mine'], ['rt', 'themotleyfool', 'trueblu', 'tech', 'play', 'plu', 'tooth', 'tech', 'play', 'look', 'undervalu', 'ibm', 'mu', 'xray'], ['head', 'head', 'review', 'mettlertoledo', 'intern', 'mtd', 'amp', 'fluidigm', 'fldm'], ['dentspli', 'sirona', 'xray', 'upgrad', 'hold', 'bidaskclub'], ['dentspli', 'sirona', 'xray', 'upgrad', 'bidaskclub'], ['rt', 'brand_uk', 'aon', 'apollominer', 'excel', 'infrastructur', 'ground', 'condit', 'confirm', 'histor', 'salau', 'tungsten', 'mine'], ['zack', 'invest', 'research', 'upgrad', 'torchmark', 'tmk', 'buy'], ['zack', 'invest', 'research', 'upgrad', 'torchmark', 'tmk', 'buy'], ['aon', 'apollominer', 'provid', 'yet', 'compel', 'evid', 'salau', 'one', 'highest', 'qualiti', 'tungsten', 'mine'], ['critic', 'survey', 'nelnet', 'nni', 'v', 'slm', 'slm'], ['rt', 'iregmedoffici', 'goal', 'maximum', 'effici', 'minim', 'side', 'effect', 'prof', 'dr', 'ulrich', 'schneider', 'irm', 'health', 'blockchain', 'bitcoi'], ['laboratori', 'corp', 'america', 'lh', 'versu', 'invita', 'nvta', 'critic', 'contrast'], ['compar', 'ch', 'robinson', 'worldwid', 'chrw', 'amp', 'expeditor', 'intern', 'washington', 'expd'], ['well', 'fargo', 'amp', 'co', 'analyst', 'give', 'slm', 'slm', 'price', 'target'], ['slm', 'slm', 'pt', 'set', 'well', 'fargo', 'amp', 'co'], ['stericycl', 'srcl', 'stock', 'rate', 'upgrad', 'zack', 'invest', 'research'], ['stericycl', 'srcl', 'lift', 'buy', 'zack', 'invest', 'research'], ['btw', 'estim', 'earn', 'per', 'share', 'ip', 'current', 'price'], ['mettlertoledo', 'intern', 'mtd', 'amp', 'quanterix', 'qtrx', 'headtohead', 'analysi'], ['rt', 'beep_emin', 'emn', 'emin', 'token', 'fuel', 'beepbeep', 'nation', 'decentr', 'help', 'economi', 'mobil', 'applic', 'get', 'ri'], ['rt', 'beep_emin', 'emn', 'emin', 'token', 'fuel', 'beepbeep', 'nation', 'app', 'avail', 'purchas', 'wednesday', 'june', 'th'], ['headtohead', 'comparison', 'quanterix', 'qtrx', 'v', 'mettlertoledo', 'intern', 'mtd'], ['nuanc', 'commun', 'nuan', 'upgrad', 'valuengin', 'sell'], ['nuanc', 'commun', 'nuan', 'upgrad', 'valuengin', 'sell'], ['array', 'biopharma', 'inc', 'arri', 'director', 'sell', 'stock'], ['aon', 'apollo', 'miner', 'confirm', 'excel', 'infrastructur', 'ground', 'condit', 'salau', 'mine'], ['akamai', 'technolog', 'inc', 'akam', 'director', 'naomi', 'seligman', 'sell', 'share'], ['scan', 'result', 'cross', 'dma', 'today', 'clf', 'ppe', 'ddr', 'igo', 'mfg', 'ilu', 'gvf', 'cdm'], ['scan', 'result', 'macd', 'bullish', 'signal', 'line', 'cross', 'today', 'fgx', 'nwl', 'ddr', 'sbm', 'arg', 'ilu', 'abc', 'shl'], ['turquois', 'hill', 'resourc', 'trq', 'cut', 'sell', 'valuengin'], ['royal', 'bank', 'canada', 'increas', 'oneok', 'oke', 'price', 'target'], ['oneok', 'oke', 'price', 'target', 'rais'], ['akamai', 'technolog', 'inc', 'akam', 'svp', 'sell', 'stock'], ['citigroup', 'begin', 'coverag', 'dollar', 'tree', 'dltr'], ['brokerag', 'anticip', 'gentex', 'co', 'gntx', 'post', 'quarterli', 'sale', 'million'], ['dollar', 'tree', 'dltr', 'downgrad', 'bidaskclub'], ['contrast', 'scorpio', 'tanker', 'stng', 'diana', 'containership', 'dcix'], ['wonder', 'risk', 'fbh', 'day', 'volatil'], ['know', 'book', 'valu', 'fbh'], ['mt', 'stevecommedia', 'fluorcorp', 'flr', 'team', 'select', 'canadianu', 'gordi', 'howe', 'bridg', 'project', 'businesswir'], ['zack', 'invest', 'research', 'upgrad', 'zimmer', 'biomet', 'zbh', 'hold'], ['iron', 'mountain', 'inc', 'irm', 'director', 'sell', 'stock'], ['short', 'sale', 'vol', 'short', 'interest', 'odp', 'key', 'brzu', 'xli', 'amc'], ['critic', 'survey', 'wp', 'carey', 'wpc', 'v', 'boston', 'properti', 'bxp'], ['novavax', 'nvax', 'edita', 'medicin', 'edit', 'headtohead', 'contrast'], ['review', 'edita', 'medicin', 'edit', 'amp', 'novavax', 'nvax'], ['analyst', 'set', 'midamerica', 'apart', 'commun', 'inc', 'maa', 'target', 'price'], ['arthur', 'j', 'gallagh', 'acquir', 'miln', 'alexand', 'ajg'], ['calcul', 'day', 'expect', 'return', 'fbh'], ['kim', 'max', 'pain', 'matur', 'maxpain', 'option'], ['million', 'sale', 'expect', 'hibbett', 'sport', 'inc', 'hibb', 'quarter'], ['billion', 'sale', 'expect', 'jacob', 'engin', 'group', 'inc', 'jec', 'quarter'], ['novavax', 'inc', 'nvax', 'stock', 'live', 'analysi', 'invest'], ['slm', 'corp', 'slm', 'expect', 'announc', 'earn', 'per', 'share'], ['everest', 'group', 'heritag', 'insur', 'hrtg', 'critic', 'contrast'], ['insid', 'sell', 'ih', 'markit', 'info', 'director', 'sell', 'share', 'stock'], ['analyst', 'bearish', 'expeditor', 'intern', 'washington', 'inc', 'expd', 'week'], ['headtohead', 'comparison', 'quanterix', 'qtrx', 'v', 'mettlertoledo', 'intern', 'mtd'], ['analyst', 'adopt', 'bullish', 'outlook', 'expeditor', 'intern', 'washington', 'inc', 'expd'], ['discus', 'stir', 'around', 'expeditor', 'intern', 'washington', 'inc', 'expd', 'week', 'analyst', 'say'], ['ar', 'cgc', 'dave', 'gnc', 'hsi', 'icon', 'kmb', 'pep', 'pg', 'rrc', 'smrt', 'wtw'], ['bwp', 'n', 'smlp', 'mmp', 'bpl', 'bkep', 'ceqp', 'nsh', 'pagp', 'oke', 'semg', 'tge', 'enb', 'ipplf', 'ppl', 'key', 'bip', 'bbu'], ['irm', 'ironmountain', 'iron', 'mountain', 'begin', 'construct', 'phoenix', 'data', 'center', 'campu', 'expans', 'stock', 'news', 'alert', 'app'], ['wonder', 'sentiment', 'indic', 'avi', 'short', 'ratio'], ['rt', 'vaultitud', 'vaultitud', 'project', 'make', 'use', 'blockchain', 'technolog', 'protect', 'intellectu', 'properti', 'ico', 'come'], ['aee', 'high', 'oi', 'rang', 'option', 'expir', 'maxpain', 'option'], ['compar', 'transalta', 'tac', 'centerpoint', 'energi', 'cnp'], ['abg', 'algn', 'ba', 'dltr', 'htht', 'kor', 'nsp', 'spi', 'uri'], ['rt', 'wallstjesu', 'repeat', 'buy', 'biotech', 'arri'], ['institut', 'investor', 'proarray', 'biopharma', 'inc', 'arri', 'sentiment', 'q'], ['ep', 'expect', 'platform', 'specialti', 'product', 'corp', 'pah', 'quarter'], ['intern', 'paper', 'ip', 'rate', 'increas', 'buy', 'well', 'fargo', 'amp', 'co'], ['sentiment', 'chang', 'report', 'array', 'biopharma', 'inc', 'arri'], ['review', 'laboratori', 'corp', 'america', 'lh', 'miragen', 'therapeut', 'mgen'], ['popular', 'opk', 'amd', 'adb', 'iot', 'fey', 'xlu', 'fxa', 'mmm', 'omer', 'fbh', 'tcbk', 'avi', 'sncr', 'mdrx', 'pfpt', 'prgo', 'web', 'ecpg', 'amph'], ['mani', 'wyndham', 'worldwid', 'corpor', 'wyn', 'analyst', 'bullish'], ['analyst', 'bullish', 'wyndham', 'worldwid', 'corpor', 'wyn', 'last', 'week'], ['wyndham', 'worldwid', 'corpor', 'wyn', 'analyst', 'bullish', 'side', 'week'], ['ep', 'expect', 'platform', 'specialti', 'product', 'corp', 'pah', 'quarter'], ['amg', 'high', 'oi', 'rang', 'option', 'expir', 'maxpain', 'option'], ['aon', 'aon', 'cut', 'hold', 'zack', 'invest', 'research'], ['dominion', 'energi', 'v', 'centerpoint', 'energi', 'cnp', 'financi', 'survey'], ['critic', 'analysi', 'centerpoint', 'energi', 'cnp', 'amp', 'dominion', 'energi'], ['rt', 'reurope_stock', 'analyst', 'bullish', 'wyndham', 'worldwid', 'corpor', 'wyn', 'last', 'week'], ['know', 'wallstreet', 'price', 'avi'], ['allegion', 'plc', 'all', 'receiv', 'averag', 'target', 'price', 'brokerag'], ['allegion', 'plc', 'all', 'receiv', 'averag', 'target', 'price', 'brokerag'], ['hr', 'high', 'oi', 'rang', 'option', 'expir', 'maxpain', 'option'], ['analyst', 'set', 'allegion', 'plc', 'all', 'pt'], ['ep', 'hca', 'healthcar', 'inc', 'hca', 'expect'], ['ep', 'expect', 'hca', 'healthcar', 'inc', 'hca'], ['hca', 'healthcar', 'inc', 'hca', 'ep', 'estim'], ['trow', 'max', 'pain', 'matur', 'maxpain', 'option'], ['hr', 'worstcasetarget'], ['hr', 'fairvalueampmajorsnapback'], ['calcul', 'day', 'expect', 'return', 'avi'], ['hr', 'breakout'], ['hr', 'rang'], ['brokerag', 'anticip', 'ecolab', 'inc', 'ecl', 'announc', 'earn', 'per', 'share'], ['get', 'latest', 'news', 'updat', 'hca', 'srev', 'csod', 'mx', 'atax', 'automat', 'marketbeat', 'daili'], ['hershey', 'compani', 'hsi', 'ep', 'estim'], ['ep', 'hershey', 'compani', 'hsi', 'expect'], ['would', 'prepay', 'would', 'invest', 'instead', 'let', 'invest', 'cover', 'dave', 'ramsey', 'avi', 'sfix', 'fey'], ['optionhack', 'identifi', 'unusu', 'option', 'activ', 'stock', 'thursday', 'includ', 'tivo', 'mgm', 'arri', 'three', 'b'], ['ep', 'expect', 'hershey', 'compani', 'hsi'], ['leucadia', 'nation', 'corp', 'luk', 'stake', 'up', 'west', 'oak', 'capit', 'llc'], ['west', 'oak', 'capit', 'llc', 'lift', 'stake', 'leucadia', 'nation', 'corp', 'luk', 'billion', 'stock', 'valu', 'declin'], ['west', 'oak', 'capit', 'llc', 'hold', 'posit', 'leucadia', 'nation', 'corp', 'luk'], ['wm', 'trash', 'cash'], ['rt', 'forever_t_', 'there', 'goe', 'sode', 'break', 'thing', 'least', 'theyr', 'get', 'paid', 'fix', 'acm', 'aegn', 'agx', 'bflbf', 'bld', 'dy', 'em'], ['rt', 'forever_t_', 'there', 'goe', 'sode', 'break', 'thing', 'least', 'theyr', 'get', 'paid', 'fix', 'acm', 'aegn', 'agx', 'bflbf', 'bld', 'dy', 'em'], ['weekli', 'wrapup', 'kinder', 'morgan', 'rose', 'last', 'week', 'kmi', 'epd', 'oke', 'xle'], ['ko', 'adb', 'azo', 'name', 'watch'], ['rt', 'thestreet', 'ko', 'adb', 'azo', 'name', 'watch'], ['rt', 'thestreet', 'ko', 'adb', 'azo', 'name', 'watch'], ['rt', 'marketrealist', 'weekli', 'wrapup', 'kinder', 'morgan', 'rose', 'last', 'week', 'kmi', 'epd', 'oke', 'xle'], ['rt', 'thestreet', 'ko', 'adb', 'azo', 'name', 'watch'], ['compar', 'entergi', 'etr', 'avangrid', 'agr'], ['zack', 'brokerag', 'expect', 'ecolab', 'inc', 'ecl', 'announc', 'ep'], ['analyz', 'avangrid', 'agr', 'amp', 'entergi', 'etr'], ['hartford', 'financi', 'servic', 'group', 'inc', 'deliv', 'longterm', 'return', 'hig'], ['kim', 'kimco', 'realti', 'corpor', 'press', 'releas', 'kimco', 'realti', 'report', 'second', 'quarter', 'transact', 'activ', 'stock', 'news', 'alert', 'app'], ['おいおいできたぞワシのクラウド９の環境が動き出したぞ', 'でれぇ遅ぇけど動いたんじゃこれでえんじゃ', 'rail', 'server', 'b', 'ip', 'p', 'port', 'これで解決したんじゃ嬉しいのぉ', '今日はこれから錦織を応援するけぇまた明日じゃなあ'], ['rt', 'smartmoneyact', 'buy', 'option', 'land', 'friday', 'qsr', 'igt', 'skx', 'voya', 'fcx', 'nvo', 'pxd', 'vip', 'vvv', 'sgm', 'pii', 'etfc', 'bll', 'gpro', 'bud'], ['rt', 'wallstjesu', 'repeat', 'buy', 'biotech', 'arri'], ['kimco', 'q', 'sale', 'volum', 'exce', 'premarket', 'kim'], ['et', 'daili', 'digest', 'larg', 'amp', 'midcap', 'stock', 'amp', 'premarket'], ['rt', 'brandonvanze', 'et', 'daili', 'digest', 'larg', 'amp', 'midcap', 'stock', 'amp', 'premarket', 'hele', 'ko'], ['ttg', 'live', 'pre', 'market', 'session', 'start', 'min', 'analyst', 'note', 'review', 'bidu', 'ttd', 'nflx', 'pypl', 'fey', 'lulu'], ['stericycl', 'srcl', 'holder', 'chesley', 'taft', 'amp', 'associ', 'trim', 'hold', 'srcl', 'stock', 'stockmarket'], ['cube', 'exr', 'hog', 'ko', 'lsi', 'psa', 'irm'], ['big', 'call', 'activ', 'pep', 'spot', 'googl', 'mdt', 'g', 'mro', 'pbr', 'baba', 'fdx', 'slca', 'nem', 'teva', 'nvda'], ['rt', 'brandonvanze', 'et', 'daili', 'digest', 'larg', 'amp', 'midcap', 'stock', 'amp', 'premarket', 'hele', 'ko'], ['big', 'put', 'activ', 'xrx', 'mrtx', 'crm', 'vip', 'wfc', 'lrcx', 'sogo', 'mdlz', 'apa', 'sgyp', 'goo', 'arwr'], ['helmerich', 'payn', 'inc', 'perform', 'long', 'term', 'hp'], ['big', 'put', 'activ', 'foxa', 'gp', 'utx', 'clx', 'psmt', 'met', 'cop', 'fslr', 'gern', 'lea', 'hal', 'gme'], ['dri', 'bdi', 'ship', 'dcix', 'glb', 'toop', 'dri', 'bulk', 'ship', 'stock', 'poi', 'jump', 'via', 'forb'], ['big', 'call', 'activ', 'ctl', 'bmi', 'skx', 'arnc', 'nte', 'wdc', 'he', 'jpm', 'ozrk', 'cag', 'tsm', 'ctrp', 'txt'], ['analyst', 'set', 'hca', 'healthcar', 'inc', 'hca', 'target', 'price'], ['brokerag', 'set', 'fairmount', 'santrol', 'fmsa', 'target', 'price'], ['big', 'call', 'activ', 'vnom', 'abx', 'de', 'mdr', 'abbv', 'wll', 'apc', 'qrvo', 'twtr', 'vc', 'aaba', 'celg', 'jci'], ['big', 'call', 'activ', 'cx', 'bx', 'adm', 'omc', 'tsla', 'snap', 'msg', 'intc', 'jcp', 'tivo', 'dri', 'anw', 'cnq'], ['big', 'call', 'activ', 'iq', 'hd', 'twtr', 'ddd', 'googl', 'amgn', 'bac', 'snap', 'bidu', 'pxd', 'atvi', 'm', 'ko'], ['critic', 'review', 'gentex', 'gntx', 'versu', 'delphi', 'technolog', 'dlph'], ['big', 'call', 'activ', 'cmg', 'arri', 'baba', 'slb', 'cpb', 'ibm', 'mxwl', 'amat', 'czr', 'ui', 'vip', 'hal', 'pcg'], ['big', 'call', 'activ', 'aapl', 'crm', 'dk', 'ual', 'agn', 'g', 'nte', 'abev', 'lrcx', 'fcx', 'pii', 'wba', 'aig'], ['rt', 'brandonvanze', 'et', 'daili', 'digest', 'larg', 'amp', 'midcap', 'stock', 'amp', 'premarket', 'hele', 'ko'], ['big', 'put', 'activ', 'axp', 'pnr', 'nl', 'pg', 'amt', 'bbt', 'fey', 'abx', 'yy', 'swk', 'wpx', 'xon', 'pep', 'txt'], ['brokerag', 'set', 'fairmount', 'santrol', 'fmsa', 'target', 'price'], ['earn', 'volatil', 'concern', 'drive', 'reinsur', 'buy', 'willi', 'tower', 'watson', 'survey', 'find', 'wltw'], ['critic', 'contrast', 'invita', 'nvta', 'versu', 'laboratori', 'corp', 'america', 'lh'], ['analyst', 'set', 'fairmount', 'santrol', 'fmsa', 'price', 'target'], ['analyst', 'set', 'hca', 'healthcar', 'inc', 'hca', 'target', 'price'], ['rsg', 'wcn', 'wm'], ['mur', 'alert', 'new', 'murphi', 'oil', 'corpor', 'sec', 'file', 'stock', 'news', 'alert', 'app'], ['recent', 'aon', 'technic', 'alert', 'macd', 'bullish', 'signal', 'line', 'cross', 'plu', 'alert'], ['watch', 'list', 'gdx', 'fnsr', 'mnst', 'ko', 'gp', 'eww', 'gild', 'gpro', 'wft', 'tmu', 'amtd', 'lv', 'utx', 'mrvl', 'gbt', 'enb', 'bbt'], ['downgrad', 'ak', 'amt', 'asn', 'bah', 'biib', 'cj', 'flo', 'hsi', 'lob', 'oa', 'pet', 'pg', 'rsi', 'ryi', 'sc', 'sea', 'six', 'smp', 'wba'], ['rt', 'openoutcri', 'downgrad', 'ak', 'amt', 'asn', 'bah', 'biib', 'cj', 'flo', 'hsi', 'lob', 'oa', 'pet', 'pg', 'rsi', 'ryi', 'sc', 'sea', 'six', 'smp', 'wba'], ['low', 'iv', 'watch', 'list', 'ptla', 'dvmt', 'shpg', 'vmw', 'gbt', 'wmt', 'rcii', 'exel', 'kr', 'wpm', 'hrb', 'ctl', 'rsx', 'vktx', 'roku', 'evhc', 'csco'], ['wltw', 'earn', 'volatil', 'concern', 'drive', 'reinsur', 'buy', 'willi', 'tower', 'watson', 'survey', 'find', 'nasdaqwltw'], ['rop', 'roper', 'technolog', 'bestperform', 'dividend', 'aristocrat', 'past', 'decad', 'good', 'invest'], ['sure', 'aon', 'explor', 'fundament', 'pro', 'con'], ['wltw', 'earn', 'volatil', 'concern', 'drive', 'reinsur', 'buy', 'willi', 'tower', 'watson', 'survey', 'find'], ['short', 'sale', 'volum', 'short', 'interest', 'nvax', 'gsk', 'cldx', 'azn', 'achn'], ['eltp', 'cent', 'drug', 'mfr', 'get', 'fda', 'percocet', 'gener', 'approv', 'million', 'dollar', 'market', 'cjjd', 'gnc', 'dplo'], ['franc', 'stock', 'medium', 'pubhotel', 'acauto', 'rnofood', 'bnairlin', 'aftelecom', 'sesgen'], ['headtohead', 'contrast', 'ameren', 'aee', 'unit', 'util', 'group', 'uugri'], ['headtohead', 'comparison', 'construct', 'partner', 'road', 'versu', 'fluor', 'co', 'new', 'flr'], ['analyst', 'northland', 'capit', 'didnt', 'chang', 'past', 'buy', 'rate', 'share', 'beximco', 'pharmaceut', 'ltd', 'bxp', 'set'], ['awr', 'bkh', 'cnp', 'dte', 'eix', 'exc', 'mdu', 'ni', 'njr', 'ppl', 'scg', 'sr', 'sre', 'swx', 'ugi', 'xlu'], ['beximco', 'pharmaceut', 'ltd', 'bxp', 'buy', 'rate', 'maintain', 'today', 'northland', 'capit', 'target', 'gbx'], ['dividend', 'champion', 'stock', 'price', 'potenti', 'gt', 'ori', 'dov', 'nue', 'abm', 'itw', 'gd', 'nc', 'ph', 'swk', 'pnr', 'seic'], ['target', 'northland', 'capit', 'maintain', 'buy', 'rate', 'beximco', 'pharmaceut', 'ltd', 'bxp', 'share', 'today'], ['ep', 'expect', 'laboratori', 'corpor', 'america', 'hold', 'lh'], ['reaffirm', 'beximco', 'pharmaceut', 'ltd', 'bxp', 'buy', 'rate', 'reaffirm', 'northland', 'capit', 'gbx', 'target', 'place'], ['daili', 'revers', 'dlph', 'lfc', 'mtnb'], ['laboratori', 'corpor', 'america', 'hold', 'lh', 'analyst', 'see', 'ep'], ['monday', 'top', 'analyst', 'upgrad', 'downgrad', 'baidu', 'capit', 'one', 'delphi', 'technolog', 'dunkin', 'brand', 'fireey', 'wal'], ['dcix'], ['high', 'yield', 'dividend', 'champion', 'portfolio', 'juli', 'updat', 'bkh', 'ed', 'kmb', 'mo', 'pep', 'pnr', 'skt'], ['comment', 'aapl', 'adb', 'aei', 'amat', 'anet', 'ans', 'athm', 'avgo', 'bidu', 'cdn', 'cgnx', 'cohr', 'ea', 'esio', 'fb', 'ffiv', 'fisv'], ['nuan', 'gap', 'dec'], ['rt', 'wallst', 'monday', 'top', 'analyst', 'upgrad', 'downgrad', 'baidu', 'capit', 'one', 'delphi', 'technolog', 'dunkin', 'brand', 'fireey', 'walgreen'], ['rt', 'brandonvanze', 'et', 'daili', 'digest', 'larg', 'amp', 'midcap', 'stock', 'amp', 'premarket', 'hele', 'ko'], ['npp', 'week', 'trade', 'spx', 'amd', 'arri', 'baba', 'bac', 'bx', 'c', 'cat', 'dhi', 'di', 'eca'], ['aan', 'aapl', 'abbv', 'adm', 'afl', 'all', 'amgp', 'amp', 'amt', 'andx', 'aon', 'ao', 'apd', 'apog', 'aqn', 'avgo', 'ay', 'bac', 'bam', 'bep', 'bip'], ['load', 'truck', 'garbag', 'processor', 'rsg', 'wcn', 'wm'], ['mur', 'new', 'sec', 'file', 'mur', 'form', 'sc', 'ga'], ['gnca', 'method', 'improv', 'immunogen', 'efficaci', 'cancer', 'vaccin', 'genocea'], ['get', 'latest', 'rate', 'etr', 'isrg', 'dp', 'ilmn', 'gd', 'inbox', 'marketbeat', 'daili'], ['fidel', 'nation', 'inform', 'servc', 'inc', 'stock', 'test', 'high', 'fi'], ['oneok', 'inc', 'stock', 'test', 'high', 'oke'], ['zack', 'brokerag', 'anticip', 'laboratori', 'corp', 'america', 'hold', 'lh', 'announc', 'ep'], ['zack', 'brokerag', 'expect', 'laboratori', 'corp', 'america', 'hold', 'lh', 'post', 'earn', 'per', 'share'], ['kimco', 'q', 'sale', 'volum', 'exce', 'reit', 'kim'], ['bought', 'arri', 'dip'], ['zack', 'analyst', 'anticip', 'boston', 'properti', 'inc', 'bxp', 'post', 'ep'], ['pah', 'jul', 'call', 'buyer', 'may', 'strike', 'gold', 'one'], ['momentum', 'mover', 'alert', 'pah'], ['downsid', 'momentum', 'alert', 'udr', 'udr', 'tradeidea', 'via', 'free', 'trade', 'room'], ['rt', 'alerttrad', 'downsid', 'momentum', 'alert', 'udr', 'udr', 'tradeidea', 'via', 'free', 'trade', 'room'], ['compani', 'could', 'defi', 'odd', 'earn', 'season', 'earn', 'adb', 'azo', 'ko'], ['chart', 'take', 'time', 'wear', 'due', 'ecommerc', 'growth', 'long', 'longer', 'call', 'right', 'pkg'], ['daili', 'revers', 'ddr', 'last', 'phigh', 'rvol', 'pclose', 'lod', 'perf'], ['rt', 'brandonvanze', 'et', 'daili', 'digest', 'larg', 'amp', 'midcap', 'stock', 'amp', 'premarket', 'hele', 'ko'], ['avi', 'max', 'pain', 'matur', 'maxpain', 'option'], ['rt', 'samuelgarciab', 'sampp', 'compani', 'revenu', 'exposur', 'china', 'total', 'revenu', 'swk', 'wynn', 'qcon', 'qrvo', 'avgo', 'mu', 'txn'], ['high', 'yield', 'dividend', 'champion', 'portfolio', 'juli', 'updat', 'mo', 'ed', 'bkh', 'kmb', 'skt', 'pep', 'pnr'], ['unicorn', 'bay', 'rate', 'hsic'], ['top', 'gainer', 'mbvx', 'staf', 'bntc', 'nndm', 'bbox', 'pvg', 'hele', 'tgc', 'whd', 'lbix', 'auo', 'lc', 'tga', 'dlph', 'axon'], ['avi', 'outperform', 'analyst', 'expect', 'ep', 'indic', 'compani', 'overal', 'financi', 'health', 'ep'], ['offic', 'depot', 'inc', 'odp', 'receiv', 'averag', 'rate', 'hold', 'analyst'], ['pah', 'option', 'alert', 'jul', 'call', 'ask', 'v', 'oi', 'earn', 'open', 'est', 'ref', 'pah'], ['rt', 'drugdoctor', 'eltp', 'cent', 'drug', 'mfr', 'get', 'fda', 'percocet', 'gener', 'approv', 'million', 'dollar', 'market', 'dvmt', 'dov', 'dst', 'atvi', 'ea'], ['offic', 'depot', 'inc', 'odp', 'receiv', 'consensu', 'recommend', 'hold', 'analyst'], ['close', 'hsic', 'gain', 'extend', 'mani', 'opportun'], ['rt', 'oneoclockdrop', 'revers', 'merger', 'tweet', 'pten', 'nwl', 'tjx', 'epd', 'tbt', 'ne', 'tal', 'spx', 'mxim', 'well', 'mmm', 'src', 'csx', 'kbr', 'mhk', 'odp', 'mhk', 'src', 'pep'], ['awr', 'bkh', 'cnp', 'dte', 'eix', 'exc', 'mdu', 'ni', 'njr', 'ppl', 'scg', 'sr', 'sre', 'swx', 'ugi', 'xlu'], ['gww', 'bm', 'afl', 'wfc', 'pfe', 'ul', 'adm', 'amgn', 'yum', 'emr', 'mmm', 'jnj', 'dov', 'ed', 'khc', 'vfc', 'mcd', 'yumc', 'gild', 'bdx', 'trow'], ['rt', 'weekherald', 'review', 'edita', 'medicin', 'edit', 'amp', 'novavax', 'nvax'], ['rt', 'olympiareport', 'novavax', 'nvax', 'edita', 'medicin', 'edit', 'headtohead', 'contrast'], ['mettlertoledo', 'intern', 'inc', 'mtd', 'stock', 'sell', 'market', 'sell'], ['morgan', 'stanley', 'upgrad', 'dlph', 'equalweight', 'overweight'], ['check', 'dividend', 'champion', 'stock', 'price', 'potenti', 'gt', 'ori', 'dov', 'nue'], ['mettlertoledo', 'intern', 'inc', 'mtd', 'fuel', 'run', 'low', 'report', 'show', 'seller'], ['buy', 'mettlertoledo', 'intern', 'inc', 'mtd', 'good', 'idea'], ['aon', 'atabov', 'daysmad', 'cl', 'nearhi', 'alltf', 'ch', 'medfltm', 'tlm', 'ilm', 'clop', 'rv', 'vl'], ['forward', 'motion', 'auto', 'supplier', 'dlph', 'dan', 'axl', 'mtor'], ['recent', 'hsic', 'technic', 'alert', 'bolling', 'band', 'squeez', 'plu', 'alert'], ['fertil', 'stock', 'ipi', 'ntr', 'mo', 'basic', 'flat', 'last', 'month', 'trade', 'discussionsbattl', 'heat', 'imo', 'lo'], ['rt', 'tamalenacho', 'gnca', 'method', 'improv', 'immunogen', 'efficaci', 'cancer', 'vaccin', 'genocea', 'atla'], ['benzinga', 'top', 'upgrad', 'downgrad', 'juli', 'dlph', 'oa', 'rxii', 'kor', 'bidu', 'amt', 'adm', 'fey', 'tsco', 'pg', 'wba'], ['hele', 'el', 'nu', 'nhtc', 'top', 'consum', 'stock', 'boom', 'big', 'earn', 'beat'], ['beep_emin', 'mother', 'app', 'power', 'emin', 'emn', 'provid'], ['downgrad', 'oa', 'sea', 'ryi', 'six', 'cj', 'amt', 'flo', 'ak', 'asn', 'bah', 'hsi', 'sc', 'pet', 'pg', 'smp', 'wba', 'rsi', 'lob', 'biib'], ['upgrad', 'dlph', 'cv', 'anet', 'brf', 'bidu', 'adm', 'umc', 'fey', 'tsco', 'cp', 'dnkn', 'bp', 'e', 'atu', 'sni', 'rig', 'pbf', 'antm', 'cof', 'cni', 'olli'], ['s_float', '変数の型が', 'float', 'かどうか調べるぞう', 'bool', 'is_float', 'mix', 'var'], ['nuan', 'hod'], ['nuan', 'jul', 'call', 'k', 'swept'], ['wm', 'max', 'pain', 'matur', 'maxpain', 'option'], ['kimco', 'realti', 'corp', 'kim', 'improv', 'lot', 'chart', 'past', 'three', 'month', 'let', 'see', 'present', 'p'], ['moment', 'period', 'ico', 'alreadi', 'possibl', 'notic', 'growth', 'commun', 'investor'], ['stock', 'paper', 'straw', 'craze', 'ip'], ['mtd', 'high', 'oi', 'rang', 'option', 'expir', 'maxpain', 'option'], ['xyl', 'u', 'firm', 'help', 'thai', 'rescuer', 'pump', 'water', 'cave', 'save', 'boy', 'via'], ['midmorn', 'highest', 'min', 'high', 'trade', 'rang', 'amp', 'upavg', 'gain', 'today', 'three', 'min', 'bar', 'min', 'vol'], ['watch', 'shipper', 'dcix', 'dri', 'ship', 'top'], ['hotstock', 'today', 'staf', 'mbvx', 'ptie', 'nndm', 'isr', 'bbox', 'aqxp', 'cvm', 'bntc', 'dfbg', 'lc', 'tgc', 'hele', 'pvg', 'auo', 'mdxg', 'axon'], ['top', 'impli', 'volatil', 'gainer', 'rcii', 'swk', 'twtr', 'pvg', 'qcom', 'hig', 'dal', 'tsco', 'dvmt', 'acad', 'rf'], ['rt', 'realmoney', 'kimco', 'realti', 'corp', 'kim', 'improv', 'lot', 'chart', 'past', 'three', 'month', 'let', 'see', 'present', 'profit'], ['pah', 'buy', 'stock', 'market', 'alert', 'sent', 'et', 'subscrib', 'stock'], ['notabl', 'gainer', 'among', 'liquid', 'option', 'name', 'morn', 'includ', 'dlph', 'mnk', 'rig', 'de'], ['rt', 'tamalenacho', 'gnca', 'method', 'improv', 'immunogen', 'efficaci', 'cancer', 'vaccin', 'genocea', 'atla'], ['uh', 'high', 'oi', 'rang', 'option', 'expir', 'maxpain', 'option'], ['great', 'day', 'isr', 'hsic', 'staf', 'staf', 'call', 'bell', 'hsic', 'isr', 'right', 'news', 'come'], ['jnj', 'cznc', 'intc', 'nsc', 'afl', 'v', 'adm', 'trow', 'pep', 'csco', 'mpw', 'bbl', 'souhi', 'pg', 'kmi', 'ibm', 'gww', 'rok', 'de', 'pm', 'tgt', 'cat'], ['notabl', 'gainer', 'among', 'liquid', 'option', 'name', 'morn', 'includ', 'dlph', 'mnk', 'rig', 'de'], ['vtr', 'well', 'hcp', 'ltc', 'ed', 'kmb', 'pep', 'khc', 'clx', 'pm', 'ge', 'gi', 'jci', 'cah', 'sbux', 'sbra'], ['rt', 'dcrchart', 'great', 'day', 'isr', 'hsic', 'staf', 'staf', 'call', 'bell', 'hsic', 'isr', 'right', 'news', 'come', 'visit', 'u'], ['cover', 'call', 'alert', 'array', 'biopharma', 'arri', 'return', 'dec'], ['row', 'price', 'group', 'inc', 'trow', 'sharehold', 'rk', 'asset', 'manag', 'llc', 'trim', 'stake'], ['row', 'price', 'group', 'inc', 'trow', 'sharehold', 'rk', 'asset', 'manag', 'llc', 'decreas', 'posit'], ['analyst', 'bullish', 'fortun', 'brand', 'home', 'amp', 'secur', 'inc', 'fbh', 'week'], ['quit', 'accur', 'analyst', 'target', 'price', 'el', 'show', 'bullish', 'signal', 'current', 'compani', 'trade'], ['top', 'gainer', 'gt', 'hele', 'pvg', 'esali', 'lfin', 'jrsh', 'brb', 'innt', 'tbvpi', 'win', 'mcf', 'apen', 'qadb', 'eyen', 'xyigi', 'kzmyy'], ['top', 'gainer', 'gt', 'hele', 'esali', 'tbvpi', 'win', 'qadb', 'mraaf', 'mtsfi', 'gelyy', 'dlph', 'bma', 'mraay', 'whd', 'pam', 'rtntf', 'cofw'], ['irm'], ['gterm', 'return', 'hsi'], ['rk', 'asset', 'manag', 'llc', 'stake', 'row', 'price', 'group', 'inc', 'trow', 'decreas', 'million'], ['analyst', 'bullish', 'fortun', 'brand', 'home', 'amp', 'secur', 'inc', 'fbh', 'week'], ['ad', 'starter', 'ladr', 'irm', 'div', 'portfolio'], ['bearish', 'outlook', 'fortun', 'brand', 'home', 'amp', 'secur', 'inc', 'fbh', 'week'], ['frt', 'max', 'pain', 'matur', 'maxpain', 'option'], ['made', 'k', 'trade', 'option', 'today', 'makingmoney', 'thank', 'option', 'trade', 'hele'], ['tough', 'day', 'market', 'nice', 'start', 'fb', 'tsla', 'twtr', 'threw', 'shouldv', 'exit', 'entri', 'p'], ['made', 'k', 'trade', 'option', 'today', 'makingmoney', 'thank', 'option', 'trade', 'cfg'], ['everest', 'group', 'stock', 'rate', 'lower', 'zack', 'invest', 'research'], ['hsic', 'option', 'alert', 'aug', 'put', 'sweep', 'ask', 'v', 'oi', 'earn', 'open', 'est', 'ref', 'hsic'], ['rt', 'winfieldsmart', 'notabl', 'gainer', 'among', 'liquid', 'option', 'name', 'morn', 'includ', 'dlph', 'mnk', 'rig'], ['rt', 'winfieldsmart', 'unusu', 'heavi', 'option', 'volum', 'today', 'open', 'includ', 'nlsn', 'tel', 'amgn', 'hsic', 'lb'], ['pah', 'move', 'specul', 'acquisit', 'arysta', 'upl', 'could', 'happen', 'earli', 'week'], ['henri', 'schein', 'inc', 'hsic', 'expect', 'post', 'earn', 'per', 'share'], ['henri', 'schein', 'inc', 'hsic', 'expect', 'announc', 'earn', 'per', 'share'], ['zack', 'analyst', 'expect', 'stericycl', 'inc', 'srcl', 'announc', 'earn', 'per', 'share'], ['short', 'sale', 'volum', 'short', 'interest', 'kim', 'lxp', 'wre', 'cli', 'bx'], ['var', 'high', 'oi', 'rang', 'option', 'expir', 'maxpain', 'option'], ['dividend', 'todayp', 'tdpfj', 'tdpr', 'tdprt', 'tdpri', 'tdprz', 'udr', 'umc', 'vz', 'wgl', 'free', 'stock', 'app'], ['andra', 'apfonden', 'hold', 'harri', 'corp', 'del', 'hr', 'cut', 'million'], ['oil', 'tech', 'breakthrough', 'decad', 'pqeff', 'hp', 'fnv', 'pba', 'enb', 'su', 'oilandga', 'energi'], ['harri', 'corp', 'del', 'hr', 'sharehold', 'andra', 'apfonden', 'cut', 'posit', 'million', 'market', 'valuat', 'declin'], ['rt', 'petroteqenergi', 'oil', 'tech', 'breakthrough', 'decad', 'pqeff', 'hp', 'fnv', 'pba', 'enb', 'su', 'oilandga', 'energi'], ['g', 'plc', 'longterm', 'investor'], ['harri', 'corp', 'deliv', 'longterm', 'return', 'hr'], ['arthur', 'j', 'gallagh', 'acquir', 'reassur', 'hold', 'inc', 'ajg'], ['ajg', 'arthur', 'j', 'gallagh', 'amp', 'co', 'acquir', 'reassur', 'hold', 'inc', 'coverdel', 'stock', 'news', 'alert', 'app'], ['rt', 'petroteqenergi', 'oil', 'tech', 'breakthrough', 'decad', 'pqeff', 'hp', 'fnv', 'pba', 'enb', 'su', 'oilandga', 'energi'], ['analyz', 'slm', 'slm', 'nelnet', 'nni'], ['best', 'fintech', 'invest', 'sq', 'v', 'fdc', 'pypl', 'exp', 'df', 'cdlx', 'info', 'fisv', 'intu'], ['nelnet', 'nni', 'amp', 'slm', 'slm', 'financi', 'comparison'], ['analyz', 'slm', 'slm', 'nelnet', 'nni'], ['happen', 'murphi', 'oil', 'corpor', 'mur', 'next', 'stock', 'declin', 'short'], ['what', 'murphi', 'oil', 'corpor', 'mur', 'declin', 'short', 'share'], ['oil', 'tech', 'breakthrough', 'decad', 'oilpric'], ['murphi', 'oil', 'corpor', 'mur', 'declin', 'short'], ['abg', 'algn', 'ba', 'dltr', 'htht', 'kor', 'nsp', 'spi', 'uri'], ['analyst', 'see', 'ep', 'oreilli', 'automot', 'inc', 'orli'], ['xyl'], ['rt', 'brandonvanze', 'et', 'daili', 'digest', 'larg', 'amp', 'midcap', 'stock', 'amp', 'premarket', 'hele', 'ko'], ['ep', 'expect', 'oreilli', 'automot', 'inc', 'orli'], ['rt', 'brandonvanze', 'et', 'daili', 'digest', 'larg', 'amp', 'midcap', 'stock', 'amp', 'premarket', 'hele', 'ko'], ['rt', 'brandonvanze', 'et', 'daili', 'digest', 'larg', 'amp', 'midcap', 'stock', 'amp', 'premarket', 'hele', 'ko'], ['ep', 'oreilli', 'automot', 'inc', 'orli', 'expect'], ['fnsr', 'iq', 'lv', 'aapl', 'start', 'build'], ['analyst', 'adopt', 'bullish', 'outlook', 'robert', 'half', 'intern', 'inc', 'rhi'], ['monday', 'top', 'analyst', 'upgrad', 'downgrad', 'baidu', 'capit', 'one', 'delphi', 'technolog', 'dunkin', 'brand', 'fireey', 'wal'], ['mani', 'robert', 'half', 'intern', 'inc', 'rhi', 'analyst', 'bearish'], ['midday', 'tweet', 'mid', 'cap', 'check', 'gambist', 'top', 'hele', 'fey', 'acad', 'arri', 'mant', 'grpn', 'hcsg', 'halo', 'glpg'], ['analyst', 'bearish', 'side', 'robert', 'half', 'intern', 'inc', 'rhi', 'week'], ['aapl', 'buy', 'fnsr', 'lookout'], ['rt', 'wallst', 'monday', 'top', 'analyst', 'upgrad', 'downgrad', 'baidu', 'capit', 'one', 'delphi', 'technolog', 'dunkin', 'brand', 'fireey', 'walgreen'], ['marketcurr', 'dlph', 'delphi', 'technolog', 'notabl', 'market', 'movement', 'million', 'gain'], ['marketcurr', 'dlph', 'delphi', 'technolog', 'notabl', 'market', 'movement', 'million', 'gain'], ['rt', 'marketcurr', 'forward', 'motion', 'auto', 'supplier', 'dlph', 'dan', 'axl', 'mtor'], ['rt', 'seekingalpha', 'xyl'], ['zt', 'high', 'oi', 'rang', 'option', 'expir', 'maxpain', 'option'], ['rt', 'petrobloq', 'oil', 'tech', 'breakthrough', 'decad', 'oilpric', 'pqeff', 'bitc'], ['rt', 'petroteqenergi', 'oil', 'tech', 'breakthrough', 'decad', 'pqeff', 'hp', 'fnv', 'pba', 'enb', 'su', 'oilandga', 'energi'], ['upgrad', 'downgrad', 'initi', 'amp', 'bidu', 'dnkn', 'cof', 'olli', 'cv', 'fey', 'dlph', 'rig', 'tsco', 'anet', 'adm', 'usx', 'gme'], ['emn', 'ep', 'grown', 'nice', 'past', 'year'], ['emn', 'max', 'pain', 'matur', 'maxpain', 'option'], ['atu', 'auo', 'blue', 'brf', 'dlph', 'ewbc', 'hele', 'he', 'lc', 'ln', 'mro', 'nflx', 'nte', 'ozrk', 'pvg', 'px', 'sti'], ['xon', 'ddr', 'usx', 'ds', 'vrx', 'fb', 'olli', 'nke', 'panw', 'goog'], ['dltr'], ['wltw', 'high', 'oi', 'rang', 'option', 'expir', 'maxpain', 'option'], ['rsi', 'jnp', 'xplr', 'zbra', 'stdi', 'peri', 'ilg', 'vac', 'mpc', 'andv', 'qcom', 'nxpi', 'zt', 'abax', 'tig', 'kmpr', 'knd'], ['estat', 'asset', 'watch', 'gainer', 'today', 'staf', 'hele', 'mcf', 'pvg', 'apen', 'depo', 'kem', 'esio', 'vcel', 'pam', 'mot', 'hstm', 'edn'], ['hal', 'hp', 'trade', 'key'], ['stock', 'analyst', 'upgrad', 'juli', 'th', 'all', 'cuz', 'ggp', 'h', 'ifnni', 'lmnx', 'lpx', 'pru', 'teva', 'tgna'], ['finisar', 'analizamo', 'compramo', 'fnsr', 'por', 'su', 'aspecto', 'técnico', 'que', 'parec', 'estar', 'cambiando', 'alcista'], ['ajg', 'high', 'oi', 'rang', 'option', 'expir', 'maxpain', 'option'], ['analyst', 'take', 'look', 'oreilli', 'automot', 'inc', 'orli', 'say'], ['livforsakringsbolaget', 'skandia', 'omsesidigt', 'stake', 'western', 'union', 'co', 'wu', 'trim', 'stock', 'price', 'declin'], ['bearish', 'outlook', 'oreilli', 'automot', 'inc', 'orli', 'week'], ['western', 'union', 'co', 'wu', 'market', 'valuat', 'declin', 'holder', 'livforsakringsbolaget', 'skandia', 'omsesidigt', 'lower'], ['flr', 'max', 'pain', 'matur', 'maxpain', 'option'], ['atu', 'auo', 'blue', 'brf', 'dlph', 'ewbc', 'hele', 'he', 'lc', 'ln', 'mro', 'nflx', 'nte', 'ozrk', 'pam', 'pfg', 'pvg']]\n"
          ]
        }
      ]
    },
    {
      "cell_type": "markdown",
      "source": [
        "Create a Flat List splitting the dataset into 60 documents to make the posting list less sparse and more understandable."
      ],
      "metadata": {
        "id": "Q7NhIMZWQg3O"
      }
    },
    {
      "cell_type": "code",
      "source": [
        "flat_list =[]\n",
        "for item in documents:\n",
        "  flat =[]\n",
        "  for i in item:\n",
        "    for j in i:\n",
        "      flat.append(j)\n",
        "  flat_list.append(flat)\n",
        "print(flat_list[0][0])     # to access each term  \n",
        "# flat list is a list of lists (size 60) with each sublist as one document\"\"\""
      ],
      "metadata": {
        "colab": {
          "base_uri": "https://localhost:8080/"
        },
        "id": "_5RvEc9jH0E4",
        "outputId": "2f614e18-164f-444c-e19c-e7c016d5bad0"
      },
      "execution_count": 34,
      "outputs": [
        {
          "output_type": "stream",
          "name": "stdout",
          "text": [
            "video\n"
          ]
        }
      ]
    },
    {
      "cell_type": "markdown",
      "source": [
        "## INVERTED INDEX CREATION"
      ],
      "metadata": {
        "id": "fxWJhditSmmN"
      }
    },
    {
      "cell_type": "code",
      "source": [
        "from collections import defaultdict\n",
        "def create_index (data):\n",
        "  index = defaultdict(list)\n",
        "  for i, tokens in enumerate(data):\n",
        "    for token in tokens:\n",
        "      index[token].append(i)\n",
        "  return index"
      ],
      "metadata": {
        "id": "bZ-xVDcQ7-Kd"
      },
      "execution_count": 26,
      "outputs": []
    },
    {
      "cell_type": "code",
      "source": [
        "def create_index_new(data):\n",
        "  return enumerate(data)"
      ],
      "metadata": {
        "id": "bl-tEIrdKCMv"
      },
      "execution_count": 27,
      "outputs": []
    },
    {
      "cell_type": "code",
      "source": [
        "index = create_index(flat_list)\n",
        "# print a few examples\n",
        "# index[i] represents the posting list for that particular i\n",
        "\n",
        "# remove duplicate elements \n",
        "for i in index:\n",
        "  index[i] = set(index[i])\n",
        "  index[i] = list(index[i])\n",
        "\n",
        "for i in list(index)[0:10]:\n",
        "  print(index[i])"
      ],
      "metadata": {
        "colab": {
          "base_uri": "https://localhost:8080/"
        },
        "id": "cjY8JIEK_nGo",
        "outputId": "46c8deb1-356f-484f-de4d-a380abbad35c"
      },
      "execution_count": 28,
      "outputs": [
        {
          "output_type": "stream",
          "name": "stdout",
          "text": [
            "[0, 1, 2, 3, 4, 5, 7, 9, 10, 11, 12, 14, 17, 18, 22, 24, 25, 28, 30, 31, 32, 33, 34, 35, 36, 37, 38, 39, 40, 41, 42, 44, 46, 47, 48, 49, 50, 51, 52, 53, 54, 55, 56, 57, 58, 59]\n",
            "[0, 1, 2, 4, 6, 7, 8, 9, 10, 11, 14, 15, 18, 20, 21, 24, 25, 31, 33, 34, 35, 42, 43, 44, 47, 52, 54, 55, 58]\n",
            "[0, 33, 34, 3, 36, 37, 58, 42, 44, 48, 21, 56, 57, 26, 59, 30]\n",
            "[0, 2, 5, 7, 8, 10, 12, 14, 18, 20, 21, 22, 23, 26, 29, 30, 31, 33, 34, 36, 38, 42, 43, 44, 45, 46, 47, 48, 49, 50, 51, 52, 53, 55, 56, 57, 58, 59]\n",
            "[0, 8, 9, 11, 13, 14, 15, 23, 26, 27, 32, 33, 34, 35, 37, 38, 40, 50, 51, 55, 56, 58, 59]\n",
            "[0]\n",
            "[0, 3, 5, 11, 18, 19, 20, 21, 23, 25, 33, 37, 44, 45, 46, 48, 50, 53, 54, 55, 56, 57, 59]\n",
            "[0, 1, 2, 3, 4, 7, 8, 9, 11, 12, 13, 14, 15, 16, 18, 19, 20, 21, 22, 23, 24, 25, 26, 27, 28, 29, 30, 31, 32, 33, 34, 35, 36, 37, 38, 40, 41, 42, 43, 44, 45, 46, 47, 48, 49, 50, 51, 52, 53, 54, 55, 56, 57, 58, 59]\n",
            "[0, 1, 2, 3, 4, 5, 6, 7, 8, 9, 10, 11, 12, 13, 14, 15, 16, 17, 18, 19, 20, 21, 22, 23, 24, 25, 26, 27, 28, 29, 30, 31, 32, 33, 34, 35, 36, 37, 38, 39, 40, 41, 42, 43, 44, 45, 46, 47, 48, 49, 50, 51, 54, 55, 57, 58, 59]\n",
            "[0, 2, 34, 40, 13, 49, 51, 24, 25, 26, 59, 57]\n"
          ]
        }
      ]
    }
  ]
}